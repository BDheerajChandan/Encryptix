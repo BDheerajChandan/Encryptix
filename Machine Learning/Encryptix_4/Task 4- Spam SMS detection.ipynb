{
 "cells": [
  {
   "cell_type": "markdown",
   "metadata": {},
   "source": [
    "# Task4 - SPAM SMS"
   ]
  },
  {
   "cell_type": "code",
   "execution_count": 1,
   "metadata": {},
   "outputs": [
    {
     "data": {
      "text/plain": [
       "'\\nBuild an AI model that can classify SMS messages as spam or legitimate. Use techniques like TF-IDF or word embeddings with \\nclassifiers like Naive Bayes, Logistic Regression, or Support Vector Machines to identify spam messages\\n'"
      ]
     },
     "execution_count": 1,
     "metadata": {},
     "output_type": "execute_result"
    }
   ],
   "source": [
    "\"\"\"\n",
    "Build an AI model that can classify SMS messages as spam or legitimate. Use techniques like TF-IDF or word embeddings with \n",
    "classifiers like Naive Bayes, Logistic Regression, or Support Vector Machines to identify spam messages\n",
    "\"\"\""
   ]
  },
  {
   "cell_type": "markdown",
   "metadata": {},
   "source": [
    "# 1. Load,Read or Extract data"
   ]
  },
  {
   "cell_type": "code",
   "execution_count": 2,
   "metadata": {},
   "outputs": [
    {
     "data": {
      "text/html": [
       "<div>\n",
       "<style scoped>\n",
       "    .dataframe tbody tr th:only-of-type {\n",
       "        vertical-align: middle;\n",
       "    }\n",
       "\n",
       "    .dataframe tbody tr th {\n",
       "        vertical-align: top;\n",
       "    }\n",
       "\n",
       "    .dataframe thead th {\n",
       "        text-align: right;\n",
       "    }\n",
       "</style>\n",
       "<table border=\"1\" class=\"dataframe\">\n",
       "  <thead>\n",
       "    <tr style=\"text-align: right;\">\n",
       "      <th></th>\n",
       "      <th>Status</th>\n",
       "      <th>Text1</th>\n",
       "      <th>Text2</th>\n",
       "      <th>Text3</th>\n",
       "      <th>Text4</th>\n",
       "    </tr>\n",
       "  </thead>\n",
       "  <tbody>\n",
       "    <tr>\n",
       "      <th>0</th>\n",
       "      <td>ham</td>\n",
       "      <td>Go until jurong point, crazy.. Available only ...</td>\n",
       "      <td>NaN</td>\n",
       "      <td>NaN</td>\n",
       "      <td>NaN</td>\n",
       "    </tr>\n",
       "    <tr>\n",
       "      <th>1</th>\n",
       "      <td>ham</td>\n",
       "      <td>Ok lar... Joking wif u oni...</td>\n",
       "      <td>NaN</td>\n",
       "      <td>NaN</td>\n",
       "      <td>NaN</td>\n",
       "    </tr>\n",
       "    <tr>\n",
       "      <th>2</th>\n",
       "      <td>spam</td>\n",
       "      <td>Free entry in 2 a wkly comp to win FA Cup fina...</td>\n",
       "      <td>NaN</td>\n",
       "      <td>NaN</td>\n",
       "      <td>NaN</td>\n",
       "    </tr>\n",
       "    <tr>\n",
       "      <th>3</th>\n",
       "      <td>ham</td>\n",
       "      <td>U dun say so early hor... U c already then say...</td>\n",
       "      <td>NaN</td>\n",
       "      <td>NaN</td>\n",
       "      <td>NaN</td>\n",
       "    </tr>\n",
       "    <tr>\n",
       "      <th>4</th>\n",
       "      <td>ham</td>\n",
       "      <td>Nah I don't think he goes to usf, he lives aro...</td>\n",
       "      <td>NaN</td>\n",
       "      <td>NaN</td>\n",
       "      <td>NaN</td>\n",
       "    </tr>\n",
       "    <tr>\n",
       "      <th>...</th>\n",
       "      <td>...</td>\n",
       "      <td>...</td>\n",
       "      <td>...</td>\n",
       "      <td>...</td>\n",
       "      <td>...</td>\n",
       "    </tr>\n",
       "    <tr>\n",
       "      <th>5567</th>\n",
       "      <td>spam</td>\n",
       "      <td>This is the 2nd time we have tried 2 contact u...</td>\n",
       "      <td>NaN</td>\n",
       "      <td>NaN</td>\n",
       "      <td>NaN</td>\n",
       "    </tr>\n",
       "    <tr>\n",
       "      <th>5568</th>\n",
       "      <td>ham</td>\n",
       "      <td>Will Ì_ b going to esplanade fr home?</td>\n",
       "      <td>NaN</td>\n",
       "      <td>NaN</td>\n",
       "      <td>NaN</td>\n",
       "    </tr>\n",
       "    <tr>\n",
       "      <th>5569</th>\n",
       "      <td>ham</td>\n",
       "      <td>Pity, * was in mood for that. So...any other s...</td>\n",
       "      <td>NaN</td>\n",
       "      <td>NaN</td>\n",
       "      <td>NaN</td>\n",
       "    </tr>\n",
       "    <tr>\n",
       "      <th>5570</th>\n",
       "      <td>ham</td>\n",
       "      <td>The guy did some bitching but I acted like i'd...</td>\n",
       "      <td>NaN</td>\n",
       "      <td>NaN</td>\n",
       "      <td>NaN</td>\n",
       "    </tr>\n",
       "    <tr>\n",
       "      <th>5571</th>\n",
       "      <td>ham</td>\n",
       "      <td>Rofl. Its true to its name</td>\n",
       "      <td>NaN</td>\n",
       "      <td>NaN</td>\n",
       "      <td>NaN</td>\n",
       "    </tr>\n",
       "  </tbody>\n",
       "</table>\n",
       "<p>5572 rows × 5 columns</p>\n",
       "</div>"
      ],
      "text/plain": [
       "     Status                                              Text1 Text2 Text3  \\\n",
       "0       ham  Go until jurong point, crazy.. Available only ...   NaN   NaN   \n",
       "1       ham                      Ok lar... Joking wif u oni...   NaN   NaN   \n",
       "2      spam  Free entry in 2 a wkly comp to win FA Cup fina...   NaN   NaN   \n",
       "3       ham  U dun say so early hor... U c already then say...   NaN   NaN   \n",
       "4       ham  Nah I don't think he goes to usf, he lives aro...   NaN   NaN   \n",
       "...     ...                                                ...   ...   ...   \n",
       "5567   spam  This is the 2nd time we have tried 2 contact u...   NaN   NaN   \n",
       "5568    ham              Will Ì_ b going to esplanade fr home?   NaN   NaN   \n",
       "5569    ham  Pity, * was in mood for that. So...any other s...   NaN   NaN   \n",
       "5570    ham  The guy did some bitching but I acted like i'd...   NaN   NaN   \n",
       "5571    ham                         Rofl. Its true to its name   NaN   NaN   \n",
       "\n",
       "     Text4  \n",
       "0      NaN  \n",
       "1      NaN  \n",
       "2      NaN  \n",
       "3      NaN  \n",
       "4      NaN  \n",
       "...    ...  \n",
       "5567   NaN  \n",
       "5568   NaN  \n",
       "5569   NaN  \n",
       "5570   NaN  \n",
       "5571   NaN  \n",
       "\n",
       "[5572 rows x 5 columns]"
      ]
     },
     "execution_count": 2,
     "metadata": {},
     "output_type": "execute_result"
    }
   ],
   "source": [
    "import pandas as pd                                         # importing pandas package for handling dataframe\n",
    "data = pd.read_csv(\"spam.csv\", encoding='ISO-8859-1')       # Read data from file with ISO encoding\n",
    "data.rename(columns={\"v1\": \"Status\", \n",
    "                     \"v2\": \"Text1\", \n",
    "                     \"Unnamed: 2\":\"Text2\", \n",
    "                     \"Unnamed: 3\":\"Text3\", \n",
    "                     \"Unnamed: 4\":\"Text4\"}, inplace=True)   # After reading data rename the column names\n",
    "data                                                        # Display the data\n"
   ]
  },
  {
   "cell_type": "markdown",
   "metadata": {},
   "source": [
    "# 2. EDA"
   ]
  },
  {
   "cell_type": "code",
   "execution_count": 3,
   "metadata": {},
   "outputs": [
    {
     "data": {
      "text/plain": [
       "Status       0\n",
       "Text1        0\n",
       "Text2     5522\n",
       "Text3     5560\n",
       "Text4     5566\n",
       "dtype: int64"
      ]
     },
     "execution_count": 3,
     "metadata": {},
     "output_type": "execute_result"
    }
   ],
   "source": [
    "data.isnull().sum()             # Check for null values in data"
   ]
  },
  {
   "cell_type": "code",
   "execution_count": 4,
   "metadata": {},
   "outputs": [
    {
     "data": {
      "text/html": [
       "<div>\n",
       "<style scoped>\n",
       "    .dataframe tbody tr th:only-of-type {\n",
       "        vertical-align: middle;\n",
       "    }\n",
       "\n",
       "    .dataframe tbody tr th {\n",
       "        vertical-align: top;\n",
       "    }\n",
       "\n",
       "    .dataframe thead th {\n",
       "        text-align: right;\n",
       "    }\n",
       "</style>\n",
       "<table border=\"1\" class=\"dataframe\">\n",
       "  <thead>\n",
       "    <tr style=\"text-align: right;\">\n",
       "      <th></th>\n",
       "      <th>Status</th>\n",
       "      <th>Text</th>\n",
       "    </tr>\n",
       "  </thead>\n",
       "  <tbody>\n",
       "    <tr>\n",
       "      <th>0</th>\n",
       "      <td>ham</td>\n",
       "      <td>Go until jurong point, crazy.. Available only ...</td>\n",
       "    </tr>\n",
       "    <tr>\n",
       "      <th>1</th>\n",
       "      <td>ham</td>\n",
       "      <td>Ok lar... Joking wif u oni...</td>\n",
       "    </tr>\n",
       "    <tr>\n",
       "      <th>2</th>\n",
       "      <td>spam</td>\n",
       "      <td>Free entry in 2 a wkly comp to win FA Cup fina...</td>\n",
       "    </tr>\n",
       "    <tr>\n",
       "      <th>3</th>\n",
       "      <td>ham</td>\n",
       "      <td>U dun say so early hor... U c already then say...</td>\n",
       "    </tr>\n",
       "    <tr>\n",
       "      <th>4</th>\n",
       "      <td>ham</td>\n",
       "      <td>Nah I don't think he goes to usf, he lives aro...</td>\n",
       "    </tr>\n",
       "    <tr>\n",
       "      <th>...</th>\n",
       "      <td>...</td>\n",
       "      <td>...</td>\n",
       "    </tr>\n",
       "    <tr>\n",
       "      <th>5567</th>\n",
       "      <td>spam</td>\n",
       "      <td>This is the 2nd time we have tried 2 contact u...</td>\n",
       "    </tr>\n",
       "    <tr>\n",
       "      <th>5568</th>\n",
       "      <td>ham</td>\n",
       "      <td>Will Ì_ b going to esplanade fr home?</td>\n",
       "    </tr>\n",
       "    <tr>\n",
       "      <th>5569</th>\n",
       "      <td>ham</td>\n",
       "      <td>Pity, * was in mood for that. So...any other s...</td>\n",
       "    </tr>\n",
       "    <tr>\n",
       "      <th>5570</th>\n",
       "      <td>ham</td>\n",
       "      <td>The guy did some bitching but I acted like i'd...</td>\n",
       "    </tr>\n",
       "    <tr>\n",
       "      <th>5571</th>\n",
       "      <td>ham</td>\n",
       "      <td>Rofl. Its true to its name</td>\n",
       "    </tr>\n",
       "  </tbody>\n",
       "</table>\n",
       "<p>5572 rows × 2 columns</p>\n",
       "</div>"
      ],
      "text/plain": [
       "     Status                                               Text\n",
       "0       ham  Go until jurong point, crazy.. Available only ...\n",
       "1       ham                Ok lar... Joking wif u oni...      \n",
       "2      spam  Free entry in 2 a wkly comp to win FA Cup fina...\n",
       "3       ham  U dun say so early hor... U c already then say...\n",
       "4       ham  Nah I don't think he goes to usf, he lives aro...\n",
       "...     ...                                                ...\n",
       "5567   spam  This is the 2nd time we have tried 2 contact u...\n",
       "5568    ham        Will Ì_ b going to esplanade fr home?      \n",
       "5569    ham  Pity, * was in mood for that. So...any other s...\n",
       "5570    ham  The guy did some bitching but I acted like i'd...\n",
       "5571    ham                   Rofl. Its true to its name      \n",
       "\n",
       "[5572 rows x 2 columns]"
      ]
     },
     "execution_count": 4,
     "metadata": {},
     "output_type": "execute_result"
    }
   ],
   "source": [
    "# Fill null values with \" \" and Combine all columns except Status column to new column named \"Text\"\n",
    "data['Text']= data['Text1'].fillna(\" \").astype(str)+\" \"+data['Text2'].fillna(\" \").astype(str)+\" \"+data['Text3'].fillna(\" \").astype(str)+\" \"+data['Text4'].fillna(\" \").astype(str)\n",
    "data = data.drop(columns=['Text1', 'Text2', 'Text3','Text4'])   # After combining to \"Text\" drop columns :  'Text1', 'Text2', 'Text3','Text4'\n",
    "data                                                            # Display the data"
   ]
  },
  {
   "cell_type": "code",
   "execution_count": 5,
   "metadata": {},
   "outputs": [
    {
     "data": {
      "text/plain": [
       "Status    0\n",
       "Text      0\n",
       "dtype: int64"
      ]
     },
     "execution_count": 5,
     "metadata": {},
     "output_type": "execute_result"
    }
   ],
   "source": [
    "data.isnull().sum()     # Check for null values in data again now nno null values are present"
   ]
  },
  {
   "cell_type": "code",
   "execution_count": 6,
   "metadata": {},
   "outputs": [
    {
     "name": "stdout",
     "output_type": "stream",
     "text": [
      "<class 'pandas.core.frame.DataFrame'>\n",
      "RangeIndex: 5572 entries, 0 to 5571\n",
      "Data columns (total 2 columns):\n",
      " #   Column  Non-Null Count  Dtype \n",
      "---  ------  --------------  ----- \n",
      " 0   Status  5572 non-null   object\n",
      " 1   Text    5572 non-null   object\n",
      "dtypes: object(2)\n",
      "memory usage: 87.2+ KB\n"
     ]
    }
   ],
   "source": [
    "data.info()             # To get data information"
   ]
  },
  {
   "cell_type": "code",
   "execution_count": 7,
   "metadata": {},
   "outputs": [
    {
     "data": {
      "text/html": [
       "<div>\n",
       "<style scoped>\n",
       "    .dataframe tbody tr th:only-of-type {\n",
       "        vertical-align: middle;\n",
       "    }\n",
       "\n",
       "    .dataframe tbody tr th {\n",
       "        vertical-align: top;\n",
       "    }\n",
       "\n",
       "    .dataframe thead th {\n",
       "        text-align: right;\n",
       "    }\n",
       "</style>\n",
       "<table border=\"1\" class=\"dataframe\">\n",
       "  <thead>\n",
       "    <tr style=\"text-align: right;\">\n",
       "      <th></th>\n",
       "      <th>Status</th>\n",
       "      <th>Text</th>\n",
       "    </tr>\n",
       "  </thead>\n",
       "  <tbody>\n",
       "    <tr>\n",
       "      <th>count</th>\n",
       "      <td>5572</td>\n",
       "      <td>5572</td>\n",
       "    </tr>\n",
       "    <tr>\n",
       "      <th>unique</th>\n",
       "      <td>2</td>\n",
       "      <td>5169</td>\n",
       "    </tr>\n",
       "    <tr>\n",
       "      <th>top</th>\n",
       "      <td>ham</td>\n",
       "      <td>Sorry, I'll call later</td>\n",
       "    </tr>\n",
       "    <tr>\n",
       "      <th>freq</th>\n",
       "      <td>4825</td>\n",
       "      <td>30</td>\n",
       "    </tr>\n",
       "  </tbody>\n",
       "</table>\n",
       "</div>"
      ],
      "text/plain": [
       "       Status                          Text\n",
       "count    5572                          5572\n",
       "unique      2                          5169\n",
       "top       ham  Sorry, I'll call later      \n",
       "freq     4825                            30"
      ]
     },
     "execution_count": 7,
     "metadata": {},
     "output_type": "execute_result"
    }
   ],
   "source": [
    "data.describe()     # To get data description"
   ]
  },
  {
   "cell_type": "markdown",
   "metadata": {},
   "source": [
    "# 3. Feature Extraction"
   ]
  },
  {
   "cell_type": "code",
   "execution_count": 8,
   "metadata": {},
   "outputs": [
    {
     "data": {
      "text/html": [
       "<div>\n",
       "<style scoped>\n",
       "    .dataframe tbody tr th:only-of-type {\n",
       "        vertical-align: middle;\n",
       "    }\n",
       "\n",
       "    .dataframe tbody tr th {\n",
       "        vertical-align: top;\n",
       "    }\n",
       "\n",
       "    .dataframe thead th {\n",
       "        text-align: right;\n",
       "    }\n",
       "</style>\n",
       "<table border=\"1\" class=\"dataframe\">\n",
       "  <thead>\n",
       "    <tr style=\"text-align: right;\">\n",
       "      <th></th>\n",
       "      <th>Status</th>\n",
       "      <th>Text</th>\n",
       "    </tr>\n",
       "  </thead>\n",
       "  <tbody>\n",
       "    <tr>\n",
       "      <th>0</th>\n",
       "      <td>0</td>\n",
       "      <td>Go until jurong point, crazy.. Available only ...</td>\n",
       "    </tr>\n",
       "    <tr>\n",
       "      <th>1</th>\n",
       "      <td>0</td>\n",
       "      <td>Ok lar... Joking wif u oni...</td>\n",
       "    </tr>\n",
       "    <tr>\n",
       "      <th>2</th>\n",
       "      <td>1</td>\n",
       "      <td>Free entry in 2 a wkly comp to win FA Cup fina...</td>\n",
       "    </tr>\n",
       "    <tr>\n",
       "      <th>3</th>\n",
       "      <td>0</td>\n",
       "      <td>U dun say so early hor... U c already then say...</td>\n",
       "    </tr>\n",
       "    <tr>\n",
       "      <th>4</th>\n",
       "      <td>0</td>\n",
       "      <td>Nah I don't think he goes to usf, he lives aro...</td>\n",
       "    </tr>\n",
       "    <tr>\n",
       "      <th>...</th>\n",
       "      <td>...</td>\n",
       "      <td>...</td>\n",
       "    </tr>\n",
       "    <tr>\n",
       "      <th>5567</th>\n",
       "      <td>1</td>\n",
       "      <td>This is the 2nd time we have tried 2 contact u...</td>\n",
       "    </tr>\n",
       "    <tr>\n",
       "      <th>5568</th>\n",
       "      <td>0</td>\n",
       "      <td>Will Ì_ b going to esplanade fr home?</td>\n",
       "    </tr>\n",
       "    <tr>\n",
       "      <th>5569</th>\n",
       "      <td>0</td>\n",
       "      <td>Pity, * was in mood for that. So...any other s...</td>\n",
       "    </tr>\n",
       "    <tr>\n",
       "      <th>5570</th>\n",
       "      <td>0</td>\n",
       "      <td>The guy did some bitching but I acted like i'd...</td>\n",
       "    </tr>\n",
       "    <tr>\n",
       "      <th>5571</th>\n",
       "      <td>0</td>\n",
       "      <td>Rofl. Its true to its name</td>\n",
       "    </tr>\n",
       "  </tbody>\n",
       "</table>\n",
       "<p>5572 rows × 2 columns</p>\n",
       "</div>"
      ],
      "text/plain": [
       "      Status                                               Text\n",
       "0          0  Go until jurong point, crazy.. Available only ...\n",
       "1          0                Ok lar... Joking wif u oni...      \n",
       "2          1  Free entry in 2 a wkly comp to win FA Cup fina...\n",
       "3          0  U dun say so early hor... U c already then say...\n",
       "4          0  Nah I don't think he goes to usf, he lives aro...\n",
       "...      ...                                                ...\n",
       "5567       1  This is the 2nd time we have tried 2 contact u...\n",
       "5568       0        Will Ì_ b going to esplanade fr home?      \n",
       "5569       0  Pity, * was in mood for that. So...any other s...\n",
       "5570       0  The guy did some bitching but I acted like i'd...\n",
       "5571       0                   Rofl. Its true to its name      \n",
       "\n",
       "[5572 rows x 2 columns]"
      ]
     },
     "execution_count": 8,
     "metadata": {},
     "output_type": "execute_result"
    }
   ],
   "source": [
    "from sklearn.preprocessing import LabelEncoder      # Importing LabelEncoder module from sklearn package\n",
    "le=LabelEncoder()                                   # Initializing LabelEncoder()\n",
    "data[\"Status\"]=le.fit_transform(data[\"Status\"])     # Changing values to numerical labels for \"Status\" column\n",
    "data                                                # Display the data"
   ]
  },
  {
   "cell_type": "code",
   "execution_count": 9,
   "metadata": {},
   "outputs": [],
   "source": [
    "x = data['Text']            # To save Independent variable to variable 'x'\n",
    "y = data['Status']          # To save Dependent variable to variable 'y'"
   ]
  },
  {
   "cell_type": "markdown",
   "metadata": {},
   "source": [
    "# 4. Model Building - Fit the TF-IDF vectorizer"
   ]
  },
  {
   "cell_type": "code",
   "execution_count": 10,
   "metadata": {},
   "outputs": [
    {
     "name": "stdout",
     "output_type": "stream",
     "text": [
      "(4457,)\n",
      "(4457,)\n",
      "(1115,)\n",
      "(1115,)\n"
     ]
    }
   ],
   "source": [
    "from sklearn.model_selection import train_test_split                                        # Importing train_test_split from sklearn package\n",
    "x_train, x_test, y_train, y_test = train_test_split(x, y, test_size=0.2, random_state=42)   # Split the data such that 20% of data for testing and remaining for training\n",
    "print(x_train.shape)    # Check the shape of x_train dataset\n",
    "print(y_train.shape)    # Check the shape of y_train dataset\n",
    "print(x_test.shape)     # Check the shape of x_test dataset\n",
    "print(y_test.shape)     # Check the shape of y_test dataset"
   ]
  },
  {
   "cell_type": "code",
   "execution_count": 11,
   "metadata": {},
   "outputs": [],
   "source": [
    "from sklearn.feature_extraction.text import TfidfVectorizer             # Importing TfidfVectorizer package from sklearn\n",
    "vectorizer = TfidfVectorizer(stop_words='english', max_features=5000)   # Initialize TfidfVectorizer with 5k features and remove english stopwords (like \"the\", \"is\", \"in\", etc.\n",
    "X_train_tfidf = vectorizer.fit_transform(x_train)                       # Apply fit_transform on x_train and initialize to a variable using vectorizer\n",
    "X_test_tfidf = vectorizer.transform(x_test)                             # Apply transform on x_test and initialize to a variable using vectorizer"
   ]
  },
  {
   "cell_type": "markdown",
   "metadata": {},
   "source": [
    "# 5. Model building and evaluation - MultinomialNB"
   ]
  },
  {
   "cell_type": "code",
   "execution_count": 12,
   "metadata": {},
   "outputs": [],
   "source": [
    "from sklearn.naive_bayes import MultinomialNB       # Importing MultinomialNB module from sklearn\n",
    "nb_model = MultinomialNB()                          # Initializing MultinomialNB from Multinomial Navie Bayes\n",
    "nb_model.fit(X_train_tfidf, y_train)                # Fit then MultinomialNB model with training dataset\n",
    "y_pred_nb = nb_model.predict(X_test_tfidf)          # To predict the values for testing dataset and save/initialize to a variable"
   ]
  },
  {
   "cell_type": "code",
   "execution_count": 13,
   "metadata": {},
   "outputs": [
    {
     "name": "stdout",
     "output_type": "stream",
     "text": [
      "Naive Bayes Classifier:\n",
      "              precision    recall  f1-score   support\n",
      "\n",
      "           0       0.97      1.00      0.98       965\n",
      "           1       1.00      0.80      0.89       150\n",
      "\n",
      "    accuracy                           0.97      1115\n",
      "   macro avg       0.98      0.90      0.94      1115\n",
      "weighted avg       0.97      0.97      0.97      1115\n",
      "\n",
      "Accuracy: 0.9730941704035875\n"
     ]
    }
   ],
   "source": [
    "from sklearn.metrics import classification_report, accuracy_score   # Importing metrics modules from sklearn for classification_report, accuracy_score\n",
    "print(\"Naive Bayes Classifier:\")                                    # Evaluating Multinomial Naive Bayes models\n",
    "print(classification_report(y_test, y_pred_nb))                     # To get classification report\n",
    "print(\"Accuracy:\", accuracy_score(y_test, y_pred_nb))               # To get accuracy score"
   ]
  },
  {
   "cell_type": "markdown",
   "metadata": {},
   "source": [
    "# 6. Model build and evaluation- LogisticRegression"
   ]
  },
  {
   "cell_type": "code",
   "execution_count": 14,
   "metadata": {},
   "outputs": [],
   "source": [
    "from sklearn.linear_model import LogisticRegression     # Importing Logistic Regression module from sklearn\n",
    "lr_model = LogisticRegression()                         # Initialize Logistic Regresion \n",
    "lr_model.fit(X_train_tfidf, y_train)                    # Train the Logistic Regresion model with training data set\n",
    "y_pred_lr = lr_model.predict(X_test_tfidf)              # Predict the testing dataset"
   ]
  },
  {
   "cell_type": "code",
   "execution_count": 15,
   "metadata": {},
   "outputs": [
    {
     "name": "stdout",
     "output_type": "stream",
     "text": [
      "\n",
      "Logistic Regression Classifier:\n",
      "              precision    recall  f1-score   support\n",
      "\n",
      "           0       0.95      1.00      0.98       965\n",
      "           1       0.97      0.69      0.81       150\n",
      "\n",
      "    accuracy                           0.96      1115\n",
      "   macro avg       0.96      0.85      0.89      1115\n",
      "weighted avg       0.96      0.96      0.95      1115\n",
      "\n",
      "Accuracy: 0.9560538116591928\n"
     ]
    }
   ],
   "source": [
    "from sklearn.metrics import classification_report, accuracy_score   # Importing metrics modules from sklearn for classification_report, accuracy_score\n",
    "print(\"\\nLogistic Regression Classifier:\")\n",
    "print(classification_report(y_test, y_pred_lr))                     # To get classification report for Logistc Regression\n",
    "print(\"Accuracy:\", accuracy_score(y_test, y_pred_lr))               # To get accuracy score for Logistc Regression"
   ]
  },
  {
   "cell_type": "markdown",
   "metadata": {},
   "source": [
    "# 7. Model Building and evaluation - SVC"
   ]
  },
  {
   "cell_type": "code",
   "execution_count": 16,
   "metadata": {},
   "outputs": [],
   "source": [
    "from sklearn.svm import SVC                     # Importing SVC module from sklearn\n",
    "svm_model = SVC()                               # Initializing SVC model\n",
    "svm_model.fit(X_train_tfidf, y_train)           # Fit the SVC model with training dataset\n",
    "y_pred_svm = svm_model.predict(X_test_tfidf)    # To prdict the SVM model with trsting dataset"
   ]
  },
  {
   "cell_type": "code",
   "execution_count": 17,
   "metadata": {},
   "outputs": [
    {
     "name": "stdout",
     "output_type": "stream",
     "text": [
      "\n",
      "Support Vector Machine Classifier:\n",
      "              precision    recall  f1-score   support\n",
      "\n",
      "           0       0.97      1.00      0.99       965\n",
      "           1       0.99      0.83      0.91       150\n",
      "\n",
      "    accuracy                           0.98      1115\n",
      "   macro avg       0.98      0.92      0.95      1115\n",
      "weighted avg       0.98      0.98      0.98      1115\n",
      "\n",
      "Accuracy: 0.9766816143497757\n"
     ]
    }
   ],
   "source": [
    "from sklearn.metrics import classification_report, accuracy_score   # Importing metrics modules from sklearn for classification_report, accuracy_score\n",
    "print(\"\\nSupport Vector Machine Classifier:\")\n",
    "print(classification_report(y_test, y_pred_svm))                    # To get classification report for SVC\n",
    "print(\"Accuracy:\", accuracy_score(y_test, y_pred_svm))              # To get accuracy score for SVC"
   ]
  },
  {
   "cell_type": "markdown",
   "metadata": {},
   "source": [
    "# Model Testing"
   ]
  },
  {
   "cell_type": "code",
   "execution_count": 18,
   "metadata": {},
   "outputs": [
    {
     "name": "stdout",
     "output_type": "stream",
     "text": [
      "Message: Congratulations! You've won a free vacation to the Bahamas. Call now to claim your prize!\n",
      "Status :\tNaive Bayes Prediction         : spam\n",
      "\t\tLogistic Regression Prediction : spam\n",
      "\t\tSVM Prediction                 : spam\n",
      "====================================================================================================\n",
      "Message: Hey, are we still on for the meeting tomorrow?\n",
      "Status :\tNaive Bayes Prediction         : ham\n",
      "\t\tLogistic Regression Prediction : ham\n",
      "\t\tSVM Prediction                 : ham\n",
      "====================================================================================================\n",
      "Message: You've been selected for a $1000 shopping spree! Click here to claim your gift card!\n",
      "Status :\tNaive Bayes Prediction         : spam\n",
      "\t\tLogistic Regression Prediction : spam\n",
      "\t\tSVM Prediction                 : spam\n",
      "====================================================================================================\n",
      "Message: Can We meet tomorrow ?\n",
      "Status :\tNaive Bayes Prediction         : ham\n",
      "\t\tLogistic Regression Prediction : ham\n",
      "\t\tSVM Prediction                 : ham\n",
      "====================================================================================================\n"
     ]
    }
   ],
   "source": [
    "# Messages to be tested on \n",
    "new_messages = [\n",
    "    \"Congratulations! You've won a free vacation to the Bahamas. Call now to claim your prize!\",\n",
    "    \"Hey, are we still on for the meeting tomorrow?\",\n",
    "    \"You've been selected for a $1000 shopping spree! Click here to claim your gift card!\",\n",
    "    \"Can We meet tomorrow ?\"\n",
    "]\n",
    "new_messages_tfidf = vectorizer.transform(new_messages)     # Transform the new messages to match the training data format\n",
    "\n",
    "predictions_nb = nb_model.predict(new_messages_tfidf)       # Predict using the Naive Bayes model\n",
    "predictions_lr = lr_model.predict(new_messages_tfidf)       # Predict using the Logistic Regression model\n",
    "predictions_svm = svm_model.predict(new_messages_tfidf)     # Predict using the Support Vector Machine model\n",
    "\n",
    "label_map = {0: 'ham', 1: 'spam'}                           # Convert numerical predictions back to labels (0 = ham, 1 = spam)\n",
    "for i, message in enumerate(new_messages):                  # Print predictions for each model\n",
    "    print(f\"Message: {message}\")\n",
    "    print(f\"Status :\\tNaive Bayes Prediction         : {label_map[predictions_nb[i]]}\")\n",
    "    print(f\"\\t\\tLogistic Regression Prediction : {label_map[predictions_lr[i]]}\")\n",
    "    print(f\"\\t\\tSVM Prediction                 : {label_map[predictions_svm[i]]}\")\n",
    "    print(\"=\" * 100)\n"
   ]
  },
  {
   "cell_type": "code",
   "execution_count": null,
   "metadata": {},
   "outputs": [],
   "source": []
  },
  {
   "cell_type": "code",
   "execution_count": null,
   "metadata": {},
   "outputs": [],
   "source": []
  }
 ],
 "metadata": {
  "kernelspec": {
   "display_name": "base",
   "language": "python",
   "name": "python3"
  },
  "language_info": {
   "codemirror_mode": {
    "name": "ipython",
    "version": 3
   },
   "file_extension": ".py",
   "mimetype": "text/x-python",
   "name": "python",
   "nbconvert_exporter": "python",
   "pygments_lexer": "ipython3",
   "version": "3.11.4"
  }
 },
 "nbformat": 4,
 "nbformat_minor": 2
}
