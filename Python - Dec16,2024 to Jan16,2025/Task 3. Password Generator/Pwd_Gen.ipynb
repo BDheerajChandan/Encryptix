{
 "cells": [
  {
   "cell_type": "code",
   "execution_count": 196,
   "metadata": {},
   "outputs": [
    {
     "data": {
      "text/plain": [
       "'\\nA password generator is a useful tool that generates strong and random passwords for users. \\nThis project aims to create a password generator application using Python, allowing users to specify the length and complexity of the password.\\nUser Input: Prompt the user to specify the desired length of the password.\\nGenerate Password: Use a combination of random characters to generate a password of the specified length.\\nDisplay the Password: Print the generated password on the screen.\\n\\n'"
      ]
     },
     "execution_count": 196,
     "metadata": {},
     "output_type": "execute_result"
    }
   ],
   "source": [
    "\"\"\"\n",
    "A password generator is a useful tool that generates strong and random passwords for users. \n",
    "This project aims to create a password generator application using Python, allowing users to specify the length and complexity of the password.\n",
    "User Input: Prompt the user to specify the desired length of the password.\n",
    "Generate Password: Use a combination of random characters to generate a password of the specified length.\n",
    "Display the Password: Print the generated password on the screen.\n",
    "\n",
    "\"\"\""
   ]
  },
  {
   "cell_type": "code",
   "execution_count": 197,
   "metadata": {},
   "outputs": [],
   "source": [
    " # ASCII values of 'a' to 'z' - 97, 122\n",
    " # ASCII values of 'A' to 'Z' - 65, 90\n",
    " # ASCII values of '0' to '9' - 48, 57\n",
    " \n",
    "from random import randint,choice,shuffle   # Importing modules from random for random choices and shufling\n",
    "def Gen_Ped(pwd_length):                    # Declare a fuction which takes password length as input\n",
    "    new_pwd=str()                           # Intialize default string for password\n",
    "    spl_chr=[\"!\",\"@\",\"#\",\"$\",\"%\",\"&\",\"*\"]   # Declare a variable with special characters\n",
    "    chr_choice=[0,1,2,3]                    # Declare a variable with 0,1,2,3 values \n",
    "    new_ch=str()                            # Intialize default string for character\n",
    "    has_lc=False                            # Set flag for lowercase\n",
    "    has_uc=False                            # Set flag for uppercase\n",
    "    has_dgt=False                           # Set flag for digit\n",
    "    has_spl=False                           # Set flag for special charater\n",
    "    for i in range(pwd_length):             # Interate for range of password length enterd\n",
    "        chc=choice(chr_choice)              # Randomly selects a choice for generating character in password\n",
    "        if(chc==0):\n",
    "            new_ch=chr(randint(97,122))     # For selecting random lowercase character\n",
    "            has_lc=True                     # If lowercase selected for password then set flag to True\n",
    "        elif(chc==1):\n",
    "            new_ch=chr(randint(65,90))      # For selecting random lowercase character\n",
    "            has_uc=True                     # If uppercase selected for password then set flag to True\n",
    "        elif(chc==2):\n",
    "            new_ch=chr(randint(48,57))      # For selecting random digit as character\n",
    "            has_dgt=True                    # If digit selected for password then set flag to True\n",
    "        elif(chc==3):\n",
    "            new_ch=choice(spl_chr)          # For selecting random special character\n",
    "            has_spl=True                    # If special character selected for password then set flag to True\n",
    "        else:\n",
    "            pass\n",
    "        new_pwd=new_pwd+new_ch\n",
    "    \n",
    "    \n",
    "    if not has_lc:                                      # If lowercase character not found\n",
    "        new_pwd = new_pwd[:-1] + chr(randint(97, 122))  # Replace the last char with a lowercase letter\n",
    "    if not has_uc:                                      # If uppercase character not found\n",
    "        new_pwd = new_pwd[:-1] + chr(randint(65, 90))   # Replace the last char with an uppercase letter\n",
    "    if not has_dgt:                                     # If digit character not found\n",
    "        new_pwd = new_pwd[:-1] + chr(randint(48, 57))   # Replace the last char with a digit\n",
    "    if not has_spl:                                     # If special character not found\n",
    "        new_pwd = new_pwd[:-1] + choice(spl_chr)        # Replace the last char with a special character\n",
    "\n",
    "    new_pwd_list = list(new_pwd)                                \n",
    "    shuffle(new_pwd_list)                                           # Shuffle the Characters in a password\n",
    "    print(\"Newly Generated password : \",\"\".join(new_pwd_list))      # Disply the generated password"
   ]
  },
  {
   "cell_type": "code",
   "execution_count": 199,
   "metadata": {},
   "outputs": [
    {
     "name": "stdout",
     "output_type": "stream",
     "text": [
      "Enter the length of password : 5\n",
      "Newly Generated password :  so2L!\n",
      "Generated Password is Poor 👎!!\n",
      "Regenerate new password (yes/no) : yes\n",
      "**************************************************\n",
      "Enter the length of password : 8\n",
      "Newly Generated password :  R**H2Z9z\n",
      "Generated Password is better 👍!!\n",
      "Regenerate new password (yes/no) : yes\n",
      "**************************************************\n",
      "Enter the length of password : 3\n",
      "Newly Generated password :  H#0\n",
      "Password cannot be generated ❌!!\n",
      "Regenerate new password (yes/no) : yes\n",
      "**************************************************\n",
      "Enter the length of password : 10\n",
      "Newly Generated password :  cpD@5H&k!#\n",
      "Generated Password is Strong ✅!!\n",
      "Regenerate new password (yes/no) : no\n",
      "**************************************************\n"
     ]
    }
   ],
   "source": [
    "while True:\n",
    "    print(\"Enter the length of password : \",end=\"\")         # Enter the password length\n",
    "    pwd_length=int(input())\n",
    "    print(pwd_length)                                       # Display the password length\n",
    "    if(pwd_length<4):                                       # If password length is less than 4 then\n",
    "        Gen_Ped(pwd_length)\n",
    "        print(\"Password cannot be generated ❌!!\")          # Display the password status if password length is < 4\n",
    "    elif(pwd_length>=4 and pwd_length<7):\n",
    "        Gen_Ped(pwd_length)\n",
    "        print(\"Generated Password is Poor 👎!!\")            # Display the password status if password length is >= 4 and <7\n",
    "    elif(pwd_length>=7 and pwd_length<10):\n",
    "        Gen_Ped(pwd_length)\n",
    "        print(\"Generated Password is better 👍!!\")          # Display the password status if password length is >= 7 and <10\n",
    "    elif(pwd_length>=10):\n",
    "        Gen_Ped(pwd_length)\n",
    "        print(\"Generated Password is Strong ✅!!\")          # Display the password status if password length is >= 10\n",
    "    print(\"Regenerate new password (yes/no) : \",end=\"\")\n",
    "    regen_pwd=input(\"Regenerate new password (yes/no) : \")  # Ask if want to regenerate password \n",
    "    print(regen_pwd)\n",
    "    print(\"*\"*50)\n",
    "    if(regen_pwd!=\"yes\"):                                   # If choice is \"No\" then stop generating password\n",
    "        break"
   ]
  },
  {
   "cell_type": "code",
   "execution_count": null,
   "metadata": {},
   "outputs": [],
   "source": []
  }
 ],
 "metadata": {
  "kernelspec": {
   "display_name": "base",
   "language": "python",
   "name": "python3"
  },
  "language_info": {
   "codemirror_mode": {
    "name": "ipython",
    "version": 3
   },
   "file_extension": ".py",
   "mimetype": "text/x-python",
   "name": "python",
   "nbconvert_exporter": "python",
   "pygments_lexer": "ipython3",
   "version": "3.11.4"
  }
 },
 "nbformat": 4,
 "nbformat_minor": 2
}
