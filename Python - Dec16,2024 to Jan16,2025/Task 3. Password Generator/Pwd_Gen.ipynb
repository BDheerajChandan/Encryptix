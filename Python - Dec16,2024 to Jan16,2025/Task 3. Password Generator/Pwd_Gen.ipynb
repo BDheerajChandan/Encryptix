{
 "cells": [
  {
   "cell_type": "code",
   "execution_count": 196,
   "metadata": {},
   "outputs": [
    {
     "data": {
      "text/plain": [
       "'\\nA password generator is a useful tool that generates strong and random passwords for users. \\nThis project aims to create a password generator application using Python, allowing users to specify the length and complexity of the password.\\nUser Input: Prompt the user to specify the desired length of the password.\\nGenerate Password: Use a combination of random characters to generate a password of the specified length.\\nDisplay the Password: Print the generated password on the screen.\\n\\n'"
      ]
     },
     "execution_count": 196,
     "metadata": {},
     "output_type": "execute_result"
    }
   ],
   "source": [
    "\"\"\"\n",
    "A password generator is a useful tool that generates strong and random passwords for users. \n",
    "This project aims to create a password generator application using Python, allowing users to specify the length and complexity of the password.\n",
    "User Input: Prompt the user to specify the desired length of the password.\n",
    "Generate Password: Use a combination of random characters to generate a password of the specified length.\n",
    "Display the Password: Print the generated password on the screen.\n",
    "\n",
    "\"\"\""
   ]
  },
  {
   "cell_type": "code",
   "execution_count": 197,
   "metadata": {},
   "outputs": [],
   "source": [
    " # ASCII values of 'a' to 'z' - 97, 122\n",
    " # ASCII values of 'A' to 'Z' - 65, 90\n",
    " # ASCII values of '0' to '9' - 48, 57\n",
    " \n",
    "from random import randint,choice,shuffle\n",
    "def Gen_Ped(pwd_length):\n",
    "    new_pwd=str()\n",
    "    spl_chr=[\"!\",\"@\",\"#\",\"$\",\"%\",\"&\",\"*\"]\n",
    "    chr_choice=[0,1,2,3]\n",
    "    new_ch=str()\n",
    "    has_lc=False\n",
    "    has_uc=False\n",
    "    has_dgt=False\n",
    "    has_spl=False\n",
    "    for i in range(pwd_length):\n",
    "        chc=choice(chr_choice)\n",
    "        if(chc==0):\n",
    "            new_ch=chr(randint(97,122))     \n",
    "            has_lc=True\n",
    "        elif(chc==1):\n",
    "            new_ch=chr(randint(65,90))\n",
    "            has_uc=True\n",
    "        elif(chc==2):\n",
    "            new_ch=chr(randint(48,57))\n",
    "            has_dgt=True\n",
    "        elif(chc==3):\n",
    "            new_ch=choice(spl_chr)\n",
    "            has_spl=True\n",
    "        else:\n",
    "            pass\n",
    "        new_pwd=new_pwd+new_ch\n",
    "    \n",
    "    \n",
    "    if not has_lc:\n",
    "        new_pwd = new_pwd[:-1] + chr(randint(97, 122))  # Replace the last char with a lowercase letter\n",
    "    if not has_uc:\n",
    "        new_pwd = new_pwd[:-1] + chr(randint(65, 90))   # Replace the last char with an uppercase letter\n",
    "    if not has_dgt:\n",
    "        new_pwd = new_pwd[:-1] + chr(randint(48, 57))    # Replace the last char with a digit\n",
    "    if not has_spl:\n",
    "        new_pwd = new_pwd[:-1] + choice(spl_chr)         # Replace the last char with a special character\n",
    "\n",
    "    new_pwd_list = list(new_pwd)\n",
    "    shuffle(new_pwd_list)\n",
    "    print(\"Newly Generated password : \",\"\".join(new_pwd_list))"
   ]
  },
  {
   "cell_type": "code",
   "execution_count": 199,
   "metadata": {},
   "outputs": [
    {
     "name": "stdout",
     "output_type": "stream",
     "text": [
      "Enter the length of password : 5\n",
      "Newly Generated password :  so2L!\n",
      "Generated Password is Poor 👎!!\n",
      "Regenerate new password (yes/no) : yes\n",
      "**************************************************\n",
      "Enter the length of password : 8\n",
      "Newly Generated password :  R**H2Z9z\n",
      "Generated Password is better 👍!!\n",
      "Regenerate new password (yes/no) : yes\n",
      "**************************************************\n",
      "Enter the length of password : 3\n",
      "Newly Generated password :  H#0\n",
      "Password cannot be generated ❌!!\n",
      "Regenerate new password (yes/no) : yes\n",
      "**************************************************\n",
      "Enter the length of password : 10\n",
      "Newly Generated password :  cpD@5H&k!#\n",
      "Generated Password is Strong ✅!!\n",
      "Regenerate new password (yes/no) : no\n",
      "**************************************************\n"
     ]
    }
   ],
   "source": [
    "while True:\n",
    "    print(\"Enter the length of password : \",end=\"\")\n",
    "    pwd_length=int(input())\n",
    "    print(pwd_length)\n",
    "    if(pwd_length<4):\n",
    "        Gen_Ped(pwd_length)\n",
    "        print(\"Password cannot be generated ❌!!\")\n",
    "    elif(pwd_length>=4 and pwd_length<7):\n",
    "        Gen_Ped(pwd_length)\n",
    "        print(\"Generated Password is Poor 👎!!\")\n",
    "    elif(pwd_length>=7 and pwd_length<10):\n",
    "        Gen_Ped(pwd_length)\n",
    "        print(\"Generated Password is better 👍!!\")\n",
    "    elif(pwd_length>=10):\n",
    "        Gen_Ped(pwd_length)\n",
    "        print(\"Generated Password is Strong ✅!!\")\n",
    "    print(\"Regenerate new password (yes/no) : \",end=\"\")\n",
    "    regen_pwd=input(\"Regenerate new password (yes/no) : \")\n",
    "    print(regen_pwd)\n",
    "    print(\"*\"*50)\n",
    "    if(regen_pwd!=\"yes\"):\n",
    "        break\n"
   ]
  },
  {
   "cell_type": "code",
   "execution_count": null,
   "metadata": {},
   "outputs": [],
   "source": []
  }
 ],
 "metadata": {
  "kernelspec": {
   "display_name": "base",
   "language": "python",
   "name": "python3"
  },
  "language_info": {
   "codemirror_mode": {
    "name": "ipython",
    "version": 3
   },
   "file_extension": ".py",
   "mimetype": "text/x-python",
   "name": "python",
   "nbconvert_exporter": "python",
   "pygments_lexer": "ipython3",
   "version": "3.11.4"
  }
 },
 "nbformat": 4,
 "nbformat_minor": 2
}
