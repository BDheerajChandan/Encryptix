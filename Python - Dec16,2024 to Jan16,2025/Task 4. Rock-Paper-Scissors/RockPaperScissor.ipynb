{
 "cells": [
  {
   "cell_type": "code",
   "execution_count": 1,
   "metadata": {},
   "outputs": [
    {
     "data": {
      "text/plain": [
       "\"\\nUser Input: Prompt the user to choose rock, paper, or scissors.\\nComputer Selection: Generate a random choice (rock, paper, or scissors) \\nfor the computer.\\nGame Logic: Determine the winner based on the user's choice and the\\ncomputer's choice.\\nRock beats scissors, scissors beat paper, and paper beats rock.\\nDisplay Result: Show the user's choice and the computer's choice.\\nDisplay the result, whether the user wins, loses, or it's a tie.\\nScore Tracking (Optional): Keep track of the user's and computer's \\nscores for multiple rounds.\\nPlay Again: Ask the user if they want to play another round.\\nUser Interface: Design a user-friendly interface with clear instructions \\nand feedback\\n\""
      ]
     },
     "execution_count": 1,
     "metadata": {},
     "output_type": "execute_result"
    }
   ],
   "source": [
    "\"\"\"\n",
    "User Input: Prompt the user to choose rock, paper, or scissors.\n",
    "Computer Selection: Generate a random choice (rock, paper, or scissors) \n",
    "for the computer.\n",
    "Game Logic: Determine the winner based on the user's choice and the\n",
    "computer's choice.\n",
    "Rock beats scissors, scissors beat paper, and paper beats rock.\n",
    "Display Result: Show the user's choice and the computer's choice.\n",
    "Display the result, whether the user wins, loses, or it's a tie.\n",
    "Score Tracking (Optional): Keep track of the user's and computer's \n",
    "scores for multiple rounds.\n",
    "Play Again: Ask the user if they want to play another round.\n",
    "User Interface: Design a user-friendly interface with clear instructions \n",
    "and feedback\n",
    "\"\"\""
   ]
  },
  {
   "cell_type": "code",
   "execution_count": null,
   "metadata": {},
   "outputs": [],
   "source": []
  }
 ],
 "metadata": {
  "kernelspec": {
   "display_name": "base",
   "language": "python",
   "name": "python3"
  },
  "language_info": {
   "codemirror_mode": {
    "name": "ipython",
    "version": 3
   },
   "file_extension": ".py",
   "mimetype": "text/x-python",
   "name": "python",
   "nbconvert_exporter": "python",
   "pygments_lexer": "ipython3",
   "version": "3.11.4"
  }
 },
 "nbformat": 4,
 "nbformat_minor": 2
}
