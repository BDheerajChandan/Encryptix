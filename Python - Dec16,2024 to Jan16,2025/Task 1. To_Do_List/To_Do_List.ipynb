{
 "cells": [
  {
   "cell_type": "code",
   "execution_count": 1,
   "metadata": {},
   "outputs": [
    {
     "data": {
      "text/plain": [
       "'A To-Do List application is a useful project that helps users manage\\nand organize their tasks efficiently. This project aims to create a\\ncommand-line or GUI-based application using Python, allowing\\nusers to create, update, and track their to-do lists'"
      ]
     },
     "execution_count": 1,
     "metadata": {},
     "output_type": "execute_result"
    }
   ],
   "source": [
    "\"\"\"A To-Do List application is a useful project that helps users manage\n",
    "and organize their tasks efficiently. This project aims to create a\n",
    "command-line or GUI-based application using Python, allowing\n",
    "users to create, update, and track their to-do lists\"\"\""
   ]
  },
  {
   "cell_type": "code",
   "execution_count": null,
   "metadata": {},
   "outputs": [],
   "source": []
  }
 ],
 "metadata": {
  "kernelspec": {
   "display_name": "base",
   "language": "python",
   "name": "python3"
  },
  "language_info": {
   "codemirror_mode": {
    "name": "ipython",
    "version": 3
   },
   "file_extension": ".py",
   "mimetype": "text/x-python",
   "name": "python",
   "nbconvert_exporter": "python",
   "pygments_lexer": "ipython3",
   "version": "3.11.4"
  }
 },
 "nbformat": 4,
 "nbformat_minor": 2
}
