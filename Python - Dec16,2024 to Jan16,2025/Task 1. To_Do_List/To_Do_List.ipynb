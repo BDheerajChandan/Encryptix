{
 "cells": [
  {
   "cell_type": "code",
   "execution_count": 5,
   "metadata": {},
   "outputs": [
    {
     "data": {
      "text/plain": [
       "'A To-Do List application is a useful project that helps users manage and organize their tasks efficiently. This project aims to create a\\ncommand-line or GUI-based application using Python, allowing users to create, update, and track their to-do lists'"
      ]
     },
     "execution_count": 5,
     "metadata": {},
     "output_type": "execute_result"
    }
   ],
   "source": [
    "\"\"\"A To-Do List application is a useful project that helps users manage and organize their tasks efficiently. This project aims to create a\n",
    "command-line or GUI-based application using Python, allowing users to create, update, and track their to-do lists\"\"\""
   ]
  },
  {
   "cell_type": "code",
   "execution_count": 21,
   "metadata": {},
   "outputs": [],
   "source": [
    "import numpy as np\n",
    "tasks = []\n",
    "st=[\"To Do\",\"In Progress\",\"Done\"]\n",
    "\n",
    "def add_Task(id, task, status):\n",
    "    if id is not None and not any(t['ID'] == id for t in tasks):\n",
    "        tasks.append({\"ID\": id, \"Task\": task, \"Status\": st[status-1]})\n",
    "        print(f\"Task '{task}' added with ID {id}.\")\n",
    "    else:\n",
    "        print(\"Invalid ID or task already exists.\")\n",
    "    print(tasks[len(tasks)-1])\n",
    "\n",
    "def rem_Task(id):\n",
    "    print(\"*\"*70)\n",
    "    for t in tasks:\n",
    "        if t[\"ID\"] == id:\n",
    "            tasks.remove(t)\n",
    "            print(f\"Task with ID {id} removed.\")\n",
    "            return\n",
    "    print(f\"Task with ID {id} not found.\")\n",
    "\n",
    "def view_Task():\n",
    "    if not tasks:\n",
    "        print(\"No tasks available.\")\n",
    "        return\n",
    "    print(\"\\nTasks List:\")\n",
    "    for t in tasks:\n",
    "        #status = \"ToDo\" if t[\"Status\"] == 1 else \"In Progress\" if t[\"Status\"] == 2 else \"Done\"\n",
    "        print(f\"ID: {t['ID']}, Task: {t['Task']}, Status: {st[status-1]}\") #Status : {status}\n"
   ]
  },
  {
   "cell_type": "code",
   "execution_count": 22,
   "metadata": {},
   "outputs": [
    {
     "name": "stdout",
     "output_type": "stream",
     "text": [
      "Enter new ID for task: 1\n",
      "Enter task for new ID: python\n",
      "Press 1 for ToDo\n",
      "Press 2 for In Progress\n",
      "Press 3 for Done\n",
      "Task 'python' added with ID 1.\n",
      "{'ID': 1, 'Task': 'python', 'Status': 'In Progress'}\n",
      "\n",
      "Tasks List:\n",
      "ID: 1, Task: python, Status: In Progress\n",
      "Do you want to remove task by id ? (yes/no) : yes\n",
      "**********************************************************************\n",
      "Task with ID 1 removed.\n",
      "Do you want to add another task? (yes/no) : yes\n",
      "**********************************************************************\n",
      "Enter new ID for task: 1\n",
      "Enter task for new ID: python\n",
      "Press 1 for ToDo\n",
      "Press 2 for In Progress\n",
      "Press 3 for Done\n",
      "Task 'python' added with ID 1.\n",
      "{'ID': 1, 'Task': 'python', 'Status': 'Done'}\n",
      "\n",
      "Tasks List:\n",
      "ID: 1, Task: python, Status: Done\n",
      "Do you want to remove task by id ? (yes/no) : no\n",
      "Do you want to add another task? (yes/no) : yes\n",
      "**********************************************************************\n",
      "Enter new ID for task: 2\n",
      "Enter task for new ID: java\n",
      "Press 1 for ToDo\n",
      "Press 2 for In Progress\n",
      "Press 3 for Done\n",
      "Task 'java' added with ID 2.\n",
      "{'ID': 2, 'Task': 'java', 'Status': 'In Progress'}\n",
      "\n",
      "Tasks List:\n",
      "ID: 1, Task: python, Status: In Progress\n",
      "ID: 2, Task: java, Status: In Progress\n",
      "Do you want to remove task by id ? (yes/no) : no\n",
      "Do you want to add another task? (yes/no) : no\n",
      "\n",
      "Tasks List:\n",
      "ID: 1, Task: python, Status: In Progress\n",
      "ID: 2, Task: java, Status: In Progress\n"
     ]
    }
   ],
   "source": [
    "# Main loop to add tasks\n",
    "while True:\n",
    "    print(\"Enter new ID for task: \",end=\"\")\n",
    "    id = int(input(\"Enter new ID for task: \"))\n",
    "    print(id)\n",
    "    print(\"Enter task for new ID: \",end=\"\")\n",
    "    task = input(\"Enter task for new ID: \")\n",
    "    print(task)\n",
    "    print(\"Press 1 for ToDo\")\n",
    "    print(\"Press 2 for In Progress\")\n",
    "    print(\"Press 3 for Done\")\n",
    "    status = int(input(\"Enter the status: \"))\n",
    "    add_Task(id, task, status)\n",
    "    view_Task()\n",
    "    print(\"Do you want to remove task by id ? (yes/no) : \",end=\"\")\n",
    "    Remove_task = input(\"Do you want to remove task by id ? (yes/no): \").strip().lower()\n",
    "    print(Remove_task)\n",
    "    if Remove_task == 'yes':\n",
    "        id_rm=int(input(\"Enter the ID to be removed : \"))\n",
    "        rem_Task(id_rm)\n",
    "    print(\"Do you want to add another task? (yes/no) : \",end=\"\")\n",
    "    stop_Addtask = input(\"Do you want to add another task? (yes/no): \").strip().lower()\n",
    "    print(stop_Addtask)\n",
    "    if stop_Addtask != 'yes':\n",
    "        break\n",
    "    print(\"*\"*70)\n",
    "\n",
    "# View all tasks\n",
    "view_Task()"
   ]
  },
  {
   "cell_type": "code",
   "execution_count": null,
   "metadata": {},
   "outputs": [],
   "source": []
  }
 ],
 "metadata": {
  "kernelspec": {
   "display_name": "base",
   "language": "python",
   "name": "python3"
  },
  "language_info": {
   "codemirror_mode": {
    "name": "ipython",
    "version": 3
   },
   "file_extension": ".py",
   "mimetype": "text/x-python",
   "name": "python",
   "nbconvert_exporter": "python",
   "pygments_lexer": "ipython3",
   "version": "3.11.4"
  }
 },
 "nbformat": 4,
 "nbformat_minor": 2
}
