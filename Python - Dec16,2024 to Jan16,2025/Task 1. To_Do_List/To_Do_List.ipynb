{
 "cells": [
  {
   "cell_type": "code",
   "execution_count": 5,
   "metadata": {},
   "outputs": [
    {
     "data": {
      "text/plain": [
       "'A To-Do List application is a useful project that helps users manage and organize their tasks efficiently. This project aims to create a\\ncommand-line or GUI-based application using Python, allowing users to create, update, and track their to-do lists'"
      ]
     },
     "execution_count": 5,
     "metadata": {},
     "output_type": "execute_result"
    }
   ],
   "source": [
    "\"\"\"A To-Do List application is a useful project that helps users manage and organize their tasks efficiently. This project aims to create a\n",
    "command-line or GUI-based application using Python, allowing users to create, update, and track their to-do lists\"\"\""
   ]
  },
  {
   "cell_type": "markdown",
   "metadata": {},
   "source": [
    "# 1. Define functions for adding, removing and displaying tasks."
   ]
  },
  {
   "cell_type": "code",
   "execution_count": 1,
   "metadata": {},
   "outputs": [],
   "source": [
    "import numpy as np                                                          # Importing numpy package for array oprations\n",
    "tasks = list()                                                              # Initializing default list\n",
    "st=[\"To Do\",\"In Progress\",\"Done\"]                                           # Declaring task status values i.e. to do, in progres, done\n",
    "\n",
    "def add_Task(id, task, status):                                             # Declaring a function for adding tasks. Inputs: id, task, status\n",
    "    if id is not None and not any(t['ID'] == id for t in tasks):            # checking and updating for non repeating tasks with unique id values.\n",
    "        tasks.append({\"ID\": id, \"Task\": task, \"Status\": st[status-1]})      # Update and add tasks to lists\n",
    "        print(f\"Task '{task}' added with ID {id}.\")                         # Display updated tasks with ID if not repeated\n",
    "    else:                                                                   \n",
    "        print(\"Invalid ID or task already exists.\")                         # Display message if task is exists with ID.\n",
    "    print(tasks[len(tasks)-1])                                              # Display updated task\n",
    "\n",
    "def rem_Task(id):                                                           # Declare a function which remov the task by taking ID as input\n",
    "    print(\"*\"*70)\n",
    "    for t in tasks:                                                         # To check if id value in ID column\n",
    "        if t[\"ID\"] == id:                                                   # If ID value match found\n",
    "            tasks.remove(t)                                                 # Remeve that task\n",
    "            print(f\"Task with ID {id} removed.\")                            # Display the ID number which was removed\n",
    "            return\n",
    "    print(f\"Task with ID {id} not found.\")                                  # Display message if ID value not found\n",
    "\n",
    "def view_Task():                                                            # Declare a function that displays all tasks contained in a list\n",
    "    if not tasks:                                                           # Display message if no tasks available\n",
    "        print(\"No tasks available.\")\n",
    "        return\n",
    "    print(\"\\nTasks List:\")\n",
    "    for t in tasks:                                                         # Display all tasks contained in a list\n",
    "        #status = \"ToDo\" if t[\"Status\"] == 1 else \"In Progress\" if t[\"Status\"] == 2 else \"Done\"\n",
    "        print(f\"ID: {t['ID']}, Task: {t['Task']}, Status: {st[status-1]}\")\n"
   ]
  },
  {
   "cell_type": "code",
   "execution_count": 22,
   "metadata": {},
   "outputs": [
    {
     "name": "stdout",
     "output_type": "stream",
     "text": [
      "Enter new ID for task: 1\n",
      "Enter task for new ID: python\n",
      "Press 1 for ToDo\n",
      "Press 2 for In Progress\n",
      "Press 3 for Done\n",
      "Task 'python' added with ID 1.\n",
      "{'ID': 1, 'Task': 'python', 'Status': 'In Progress'}\n",
      "\n",
      "Tasks List:\n",
      "ID: 1, Task: python, Status: In Progress\n",
      "Do you want to remove task by id ? (yes/no) : yes\n",
      "**********************************************************************\n",
      "Task with ID 1 removed.\n",
      "Do you want to add another task? (yes/no) : yes\n",
      "**********************************************************************\n",
      "Enter new ID for task: 1\n",
      "Enter task for new ID: python\n",
      "Press 1 for ToDo\n",
      "Press 2 for In Progress\n",
      "Press 3 for Done\n",
      "Task 'python' added with ID 1.\n",
      "{'ID': 1, 'Task': 'python', 'Status': 'Done'}\n",
      "\n",
      "Tasks List:\n",
      "ID: 1, Task: python, Status: Done\n",
      "Do you want to remove task by id ? (yes/no) : no\n",
      "Do you want to add another task? (yes/no) : yes\n",
      "**********************************************************************\n",
      "Enter new ID for task: 2\n",
      "Enter task for new ID: java\n",
      "Press 1 for ToDo\n",
      "Press 2 for In Progress\n",
      "Press 3 for Done\n",
      "Task 'java' added with ID 2.\n",
      "{'ID': 2, 'Task': 'java', 'Status': 'In Progress'}\n",
      "\n",
      "Tasks List:\n",
      "ID: 1, Task: python, Status: In Progress\n",
      "ID: 2, Task: java, Status: In Progress\n",
      "Do you want to remove task by id ? (yes/no) : no\n",
      "Do you want to add another task? (yes/no) : no\n",
      "\n",
      "Tasks List:\n",
      "ID: 1, Task: python, Status: In Progress\n",
      "ID: 2, Task: java, Status: In Progress\n"
     ]
    }
   ],
   "source": [
    "# Main loop to add tasks\n",
    "while True:\n",
    "    print(\"Enter new ID for task: \",end=\"\")                                             \n",
    "    id = int(input(\"Enter new ID for task: \"))                                          # Enter new task ID\n",
    "    print(id)                                                                           # Display the ID which is newly entered\n",
    "    print(\"Enter task for new ID: \",end=\"\")                     \n",
    "    task = input(\"Enter task for new ID: \")                                             # Enter task for new ID\n",
    "    print(task)                                                                         # Display task for entered ID\n",
    "    print(\"Press 1 for ToDo\")\n",
    "    print(\"Press 2 for In Progress\")\n",
    "    print(\"Press 3 for Done\")\n",
    "    status = int(input(\"Enter the status: \"))                                           # Choose task status\n",
    "    add_Task(id, task, status)                                                          # Call the function to add new entered task\n",
    "    view_Task()                                                                         # Display the task which is newly entered\n",
    "    print(\"Do you want to remove task by id ? (yes/no) : \",end=\"\")                      \n",
    "    Remove_task = input(\"Do you want to remove task by id ? (yes/no): \").strip().lower()# Ask if want to remove task by ID \n",
    "    print(Remove_task)\n",
    "    if Remove_task == 'yes':                                                            # If my cohice is \"yes\" then remve the task by giving ID\n",
    "        id_rm=int(input(\"Enter the ID to be removed : \"))                               # Enter the ID to be removed\n",
    "        rem_Task(id_rm)                                                                 # Call the function to remove the task by ID\n",
    "    print(\"Do you want to add another task? (yes/no) : \",end=\"\")                         \n",
    "    stop_Addtask = input(\"Do you want to add another task? (yes/no): \").strip().lower() # Ask if want to add new Task\n",
    "    print(stop_Addtask)\n",
    "    if stop_Addtask != 'yes':                                                           # If my choice is \"No\" then stop add tasks\n",
    "        break\n",
    "    print(\"*\"*70)\n",
    "\n",
    "# View all tasks\n",
    "view_Task()                                                                             # To diplay and view all tasks"
   ]
  },
  {
   "cell_type": "code",
   "execution_count": null,
   "metadata": {},
   "outputs": [],
   "source": []
  }
 ],
 "metadata": {
  "kernelspec": {
   "display_name": "base",
   "language": "python",
   "name": "python3"
  },
  "language_info": {
   "codemirror_mode": {
    "name": "ipython",
    "version": 3
   },
   "file_extension": ".py",
   "mimetype": "text/x-python",
   "name": "python",
   "nbconvert_exporter": "python",
   "pygments_lexer": "ipython3",
   "version": "3.11.4"
  }
 },
 "nbformat": 4,
 "nbformat_minor": 2
}
