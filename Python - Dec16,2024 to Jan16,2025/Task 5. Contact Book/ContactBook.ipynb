{
 "cells": [
  {
   "cell_type": "code",
   "execution_count": 1,
   "metadata": {},
   "outputs": [
    {
     "data": {
      "text/plain": [
       "'Contact Information: Store name, phone number, email, and address for \\neach contact.\\nAdd Contact: Allow users to add new contacts with their details.\\nView Contact List: Display a list of all saved contacts with names and \\nphone numbers.\\nSearch Contact: Implement a search function to find contacts by name \\nor phone number.\\nUpdate Contact: Enable users to update contact details.\\nDelete Contact: Provide an option to delete a contact.\\nUser Interface: Design a user-friendly interface for easy interaction.'"
      ]
     },
     "execution_count": 1,
     "metadata": {},
     "output_type": "execute_result"
    }
   ],
   "source": [
    "\"\"\"Contact Information: Store name, phone number, email, and address for \n",
    "each contact.\n",
    "Add Contact: Allow users to add new contacts with their details.\n",
    "View Contact List: Display a list of all saved contacts with names and \n",
    "phone numbers.\n",
    "Search Contact: Implement a search function to find contacts by name \n",
    "or phone number.\n",
    "Update Contact: Enable users to update contact details.\n",
    "Delete Contact: Provide an option to delete a contact.\n",
    "User Interface: Design a user-friendly interface for easy interaction.\"\"\""
   ]
  },
  {
   "cell_type": "code",
   "execution_count": null,
   "metadata": {},
   "outputs": [],
   "source": []
  }
 ],
 "metadata": {
  "kernelspec": {
   "display_name": "base",
   "language": "python",
   "name": "python3"
  },
  "language_info": {
   "codemirror_mode": {
    "name": "ipython",
    "version": 3
   },
   "file_extension": ".py",
   "mimetype": "text/x-python",
   "name": "python",
   "nbconvert_exporter": "python",
   "pygments_lexer": "ipython3",
   "version": "3.11.4"
  }
 },
 "nbformat": 4,
 "nbformat_minor": 2
}
