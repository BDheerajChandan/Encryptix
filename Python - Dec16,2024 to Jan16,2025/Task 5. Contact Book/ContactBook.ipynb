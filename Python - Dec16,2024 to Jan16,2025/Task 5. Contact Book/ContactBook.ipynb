{
 "cells": [
  {
   "cell_type": "code",
   "execution_count": 11,
   "metadata": {},
   "outputs": [
    {
     "data": {
      "text/plain": [
       "'Contact Information: Store phone number, name, email, and address for each contact.\\nAdd Contact: Allow users to add new contacts with their details.\\nView Contact List: Display a list of all saved contacts with names and phone numbers.\\nSearch Contact: Implement a search function to find contacts by name or phone number.\\nUpdate Contact: Enable users to update contact details.\\nDelete Contact: Provide an option to delete a contact.\\nUser Interface: Design a user-friendly interface for easy interaction.'"
      ]
     },
     "execution_count": 11,
     "metadata": {},
     "output_type": "execute_result"
    }
   ],
   "source": [
    "\"\"\"Contact Information: Store phone number, name, email, and address for each contact.\n",
    "Add Contact: Allow users to add new contacts with their details.\n",
    "View Contact List: Display a list of all saved contacts with names and phone numbers.\n",
    "Search Contact: Implement a search function to find contacts by name or phone number.\n",
    "Update Contact: Enable users to update contact details.\n",
    "Delete Contact: Provide an option to delete a contact.\n",
    "User Interface: Design a user-friendly interface for easy interaction.\"\"\""
   ]
  },
  {
   "cell_type": "code",
   "execution_count": 12,
   "metadata": {},
   "outputs": [],
   "source": [
    "import numpy as np\n",
    "\n",
    "tasks = []\n",
    "def add_Num(phone_number, name, email, address):\n",
    "    if phone_number and name and email and address:  \n",
    "        if not any(t['phone_number'] == phone_number for t in tasks):\n",
    "            task_id = len(tasks) + 1\n",
    "            tasks.append({\"ID\": task_id, \"phone_number\": phone_number, \"name\": name, \"email\": email, \"address\": address})\n",
    "            print(f\"Contact added: {tasks[len(tasks)-1]}\")\n",
    "        else:\n",
    "            print(\"Phone number already exists.\")\n",
    "    else:\n",
    "        print(\"Invalid input. All fields must be provided.\")\n",
    "\n",
    "def Rm_number(task_id):\n",
    "    for t in tasks:\n",
    "        if t[\"ID\"] == task_id:\n",
    "            tasks.remove(t)\n",
    "            print(f\"Contact with ID {task_id} removed.\")\n",
    "            return\n",
    "    print(f\"Contact with ID {task_id} not found.\")\n",
    "\n",
    "def view_contacts():\n",
    "    if not tasks:\n",
    "        print(\"No contacts available.\")\n",
    "        return\n",
    "    print(\"\\nContacts List:\")\n",
    "    for t in tasks:\n",
    "        print(f\"ID: {t['ID']}, phone_number: {t['phone_number']}, name: {t['name']}, email: {t['email']}, address: {t['address']}\")"
   ]
  },
  {
   "cell_type": "code",
   "execution_count": null,
   "metadata": {},
   "outputs": [
    {
     "name": "stdout",
     "output_type": "stream",
     "text": [
      "Enter new contact details : \n",
      "Enter phone number : 123\n",
      "Enter name : asd\n",
      "Enter email : asd123\n",
      "Enter address : asd123asd123\n",
      "Contact added: {'ID': 1, 'phone_number': '123', 'name': 'asd', 'email': 'asd123', 'address': 'asd123asd123'}\n",
      "Do you want to remove contact by ID? (yes/no) : no\n",
      "Do you want to add another contact? (yes/no): yes\n",
      "**************************************************************************************************** \n",
      "\n",
      "Enter new contact details : \n",
      "Enter phone number : 234\n",
      "Enter name : asd\n",
      "Enter email : asd123asd123\n",
      "Enter address : asd123\n",
      "Contact added: {'ID': 2, 'phone_number': '234', 'name': 'asd', 'email': 'asd123asd123', 'address': 'asd123'}\n",
      "Do you want to remove contact by ID? (yes/no) : no\n",
      "Do you want to add another contact? (yes/no): yes\n",
      "**************************************************************************************************** \n",
      "\n",
      "Enter new contact details : \n",
      "Enter phone number : 678\n",
      "Enter name : bnm\n",
      "Enter email : 789bnm\n",
      "Enter address : 6789bnm567\n",
      "Contact added: {'ID': 3, 'phone_number': '678', 'name': 'bnm', 'email': '789bnm', 'address': '6789bnm567'}\n",
      "Do you want to remove contact by ID? (yes/no) : yes\n",
      "**********************************************************************\n",
      "Contact with ID 2 removed.\n",
      "Do you want to add another contact? (yes/no): no\n",
      "\n",
      "Contacts List:\n",
      "ID: 1, phone_number: 123, name: asd, email: asd123, address: asd123asd123\n",
      "ID: 3, phone_number: 678, name: bnm, email: 789bnm, address: 6789bnm567\n"
     ]
    }
   ],
   "source": [
    "while True:\n",
    "    print(\"Enter new contact details : \")\n",
    "    print(\"Enter phone number : \",end=\"\")\n",
    "    phone_number = input(\"Enter phone number: \")\n",
    "    print(phone_number)\n",
    "    print(\"Enter name : \",end=\"\")\n",
    "    name = input(\"Enter name: \")\n",
    "    print(name)\n",
    "    print(\"Enter email : \",end=\"\")\n",
    "    email = input(\"Enter email: \")\n",
    "    print(email)\n",
    "    print(\"Enter address : \",end=\"\")\n",
    "    address = input(\"Enter address: \")\n",
    "    print(address)\n",
    "    add_Num(phone_number, name, email, address)\n",
    "\n",
    "    print(\"Do you want to remove contact by ID? (yes/no) : \", end=\"\")\n",
    "    remove_choice = input(\"Do you want to remove contact by ID? (yes/no) : \").strip().lower()\n",
    "    print(remove_choice)\n",
    "    if remove_choice == 'yes':\n",
    "        try:\n",
    "            id_rm = int(input(\"Enter the ID of the contact to remove: \"))\n",
    "            Rm_number(id_rm)\n",
    "            print(\"*\" * 100,\"\\n\")\n",
    "        except ValueError:\n",
    "            print(\"Invalid ID entered. Please enter a number.\")\n",
    "\n",
    "    print(\"Do you want to add another contact? (yes/no): \", end=\"\")\n",
    "    stop_AddContact = input(\"Do you want to add another contact? (yes/no): \").strip().lower()\n",
    "    print(stop_AddContact)\n",
    "    if stop_AddContact != 'yes':\n",
    "        break\n",
    "    print(\"*\" * 100,\"\\n\")\n",
    "\n",
    "view_contacts()\n"
   ]
  },
  {
   "cell_type": "code",
   "execution_count": null,
   "metadata": {},
   "outputs": [],
   "source": []
  }
 ],
 "metadata": {
  "kernelspec": {
   "display_name": "base",
   "language": "python",
   "name": "python3"
  },
  "language_info": {
   "codemirror_mode": {
    "name": "ipython",
    "version": 3
   },
   "file_extension": ".py",
   "mimetype": "text/x-python",
   "name": "python",
   "nbconvert_exporter": "python",
   "pygments_lexer": "ipython3",
   "version": "3.11.4"
  }
 },
 "nbformat": 4,
 "nbformat_minor": 2
}
