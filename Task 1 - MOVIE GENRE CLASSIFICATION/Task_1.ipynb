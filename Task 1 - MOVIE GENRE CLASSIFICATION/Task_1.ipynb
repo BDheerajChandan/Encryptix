{
 "cells": [
  {
   "cell_type": "markdown",
   "metadata": {},
   "source": [
    "# Task 1 - MOVIE GENRE CLASSIFICATION"
   ]
  },
  {
   "cell_type": "code",
   "execution_count": 1,
   "metadata": {},
   "outputs": [
    {
     "data": {
      "text/plain": [
       "'\\nCreate a machine learning model that can predict the genre of a movie \\nbased on its plot summary or other textual information. \\nYou can use techniques like TF-IDF or word embeddings with classifiers such as \\nNaive Bayes, Logistic Regression, or Support Vector Machines.\\n'"
      ]
     },
     "execution_count": 1,
     "metadata": {},
     "output_type": "execute_result"
    }
   ],
   "source": [
    "\"\"\"\n",
    "Create a machine learning model that can predict the genre of a movie \n",
    "based on its plot summary or other textual information. \n",
    "You can use techniques like TF-IDF or word embeddings with classifiers such as \n",
    "Naive Bayes, Logistic Regression, or Support Vector Machines.\n",
    "\"\"\""
   ]
  },
  {
   "cell_type": "code",
   "execution_count": 26,
   "metadata": {},
   "outputs": [
    {
     "data": {
      "text/plain": [
       "['.gitkeep',\n",
       " 'description.txt',\n",
       " 'Task_1.ipynb',\n",
       " 'test_data.txt',\n",
       " 'test_data_solution.txt',\n",
       " 'train_data.txt']"
      ]
     },
     "execution_count": 26,
     "metadata": {},
     "output_type": "execute_result"
    }
   ],
   "source": [
    "import os\n",
    "os.listdir()"
   ]
  },
  {
   "cell_type": "markdown",
   "metadata": {},
   "source": [
    "# 1. Read or Extract data"
   ]
  },
  {
   "cell_type": "code",
   "execution_count": 1,
   "metadata": {},
   "outputs": [
    {
     "data": {
      "text/html": [
       "<div>\n",
       "<style scoped>\n",
       "    .dataframe tbody tr th:only-of-type {\n",
       "        vertical-align: middle;\n",
       "    }\n",
       "\n",
       "    .dataframe tbody tr th {\n",
       "        vertical-align: top;\n",
       "    }\n",
       "\n",
       "    .dataframe thead th {\n",
       "        text-align: right;\n",
       "    }\n",
       "</style>\n",
       "<table border=\"1\" class=\"dataframe\">\n",
       "  <thead>\n",
       "    <tr style=\"text-align: right;\">\n",
       "      <th></th>\n",
       "      <th>Train data:</th>\n",
       "    </tr>\n",
       "  </thead>\n",
       "  <tbody>\n",
       "    <tr>\n",
       "      <th>0</th>\n",
       "      <td>ID ::: TITLE ::: GENRE ::: DESCRIPTION</td>\n",
       "    </tr>\n",
       "    <tr>\n",
       "      <th>1</th>\n",
       "      <td>ID ::: TITLE ::: GENRE ::: DESCRIPTION</td>\n",
       "    </tr>\n",
       "    <tr>\n",
       "      <th>2</th>\n",
       "      <td>ID ::: TITLE ::: GENRE ::: DESCRIPTION</td>\n",
       "    </tr>\n",
       "    <tr>\n",
       "      <th>3</th>\n",
       "      <td>ID ::: TITLE ::: GENRE ::: DESCRIPTION</td>\n",
       "    </tr>\n",
       "    <tr>\n",
       "      <th>4</th>\n",
       "      <td>Test data:</td>\n",
       "    </tr>\n",
       "    <tr>\n",
       "      <th>5</th>\n",
       "      <td>ID ::: TITLE ::: DESCRIPTION</td>\n",
       "    </tr>\n",
       "    <tr>\n",
       "      <th>6</th>\n",
       "      <td>ID ::: TITLE ::: DESCRIPTION</td>\n",
       "    </tr>\n",
       "    <tr>\n",
       "      <th>7</th>\n",
       "      <td>ID ::: TITLE ::: DESCRIPTION</td>\n",
       "    </tr>\n",
       "    <tr>\n",
       "      <th>8</th>\n",
       "      <td>ID ::: TITLE ::: DESCRIPTION</td>\n",
       "    </tr>\n",
       "    <tr>\n",
       "      <th>9</th>\n",
       "      <td>Source:</td>\n",
       "    </tr>\n",
       "    <tr>\n",
       "      <th>10</th>\n",
       "      <td>ftp://ftp.fu-berlin.de/pub/misc/movies/database/</td>\n",
       "    </tr>\n",
       "  </tbody>\n",
       "</table>\n",
       "</div>"
      ],
      "text/plain": [
       "                                         Train data:\n",
       "0             ID ::: TITLE ::: GENRE ::: DESCRIPTION\n",
       "1             ID ::: TITLE ::: GENRE ::: DESCRIPTION\n",
       "2             ID ::: TITLE ::: GENRE ::: DESCRIPTION\n",
       "3             ID ::: TITLE ::: GENRE ::: DESCRIPTION\n",
       "4                                         Test data:\n",
       "5                       ID ::: TITLE ::: DESCRIPTION\n",
       "6                       ID ::: TITLE ::: DESCRIPTION\n",
       "7                       ID ::: TITLE ::: DESCRIPTION\n",
       "8                       ID ::: TITLE ::: DESCRIPTION\n",
       "9                                            Source:\n",
       "10  ftp://ftp.fu-berlin.de/pub/misc/movies/database/"
      ]
     },
     "execution_count": 1,
     "metadata": {},
     "output_type": "execute_result"
    }
   ],
   "source": [
    "import pandas as pd                       # Importing pandas package for handling Dataframe \n",
    "import warnings                           # Importing warnings package for ignoring warning messages\n",
    "warnings.filterwarnings(\"ignore\")\n",
    "data=pd.read_csv(\"description.txt\")       # Read the file as csv\n",
    "data                                      # Displaying Data"
   ]
  },
  {
   "cell_type": "markdown",
   "metadata": {},
   "source": [
    "# 2. Create and apply Function to read data by splitting by \":::\""
   ]
  },
  {
   "cell_type": "code",
   "execution_count": 2,
   "metadata": {},
   "outputs": [],
   "source": [
    "def load_data(file_path):                                   # Function that takes file path\n",
    "    with open(file_path, 'r', encoding='utf-8') as f:       # To read the data in read mode with utf-8 encoding as reference f \n",
    "        data = f.readlines()                                # Take each line and then\n",
    "    data = [line.strip().split(' ::: ') for line in data]   # Split each line by \" ::: \" to get \"ID ::: TITLE ::: GENRE ::: DESCRIPTION\" format\n",
    "    return data                                             # Return the splitted line"
   ]
  },
  {
   "cell_type": "code",
   "execution_count": 3,
   "metadata": {},
   "outputs": [],
   "source": [
    "\n",
    "train_data = load_data(\"train_data.txt\")                                             # To Load training dataset and pass to load_data function\n",
    "train_df = pd.DataFrame(train_data, columns=['ID', 'Title', 'Genre', 'Description']) # Convert to Dataframe and rename columns with proper column names\n",
    "\n",
    "test_data = load_data(\"test_data.txt\")                                   # To Load test dataset and pass to load_data function\n",
    "test_df = pd.DataFrame(test_data, columns=['ID', 'Title', 'Description'])# Convert to Dataframe and rename columns with proper column names\n",
    "\n",
    "test_solution = load_data('test_data_solution.txt')                                             # Load test data solution (test_solution has 3 columns: ID, Title, Genre)\n",
    "test_solution_df = pd.DataFrame(test_solution, columns=['ID', 'Title', 'Genre', 'Description']) # Solution has 'Genre' column\n"
   ]
  },
  {
   "cell_type": "code",
   "execution_count": 5,
   "metadata": {},
   "outputs": [
    {
     "name": "stdout",
     "output_type": "stream",
     "text": [
      "Train Data:\n"
     ]
    },
    {
     "data": {
      "text/html": [
       "<div>\n",
       "<style scoped>\n",
       "    .dataframe tbody tr th:only-of-type {\n",
       "        vertical-align: middle;\n",
       "    }\n",
       "\n",
       "    .dataframe tbody tr th {\n",
       "        vertical-align: top;\n",
       "    }\n",
       "\n",
       "    .dataframe thead th {\n",
       "        text-align: right;\n",
       "    }\n",
       "</style>\n",
       "<table border=\"1\" class=\"dataframe\">\n",
       "  <thead>\n",
       "    <tr style=\"text-align: right;\">\n",
       "      <th></th>\n",
       "      <th>ID</th>\n",
       "      <th>Title</th>\n",
       "      <th>Genre</th>\n",
       "      <th>Description</th>\n",
       "    </tr>\n",
       "  </thead>\n",
       "  <tbody>\n",
       "    <tr>\n",
       "      <th>0</th>\n",
       "      <td>1</td>\n",
       "      <td>Oscar et la dame rose (2009)</td>\n",
       "      <td>drama</td>\n",
       "      <td>Listening in to a conversation between his doc...</td>\n",
       "    </tr>\n",
       "    <tr>\n",
       "      <th>1</th>\n",
       "      <td>2</td>\n",
       "      <td>Cupid (1997)</td>\n",
       "      <td>thriller</td>\n",
       "      <td>A brother and sister with a past incestuous re...</td>\n",
       "    </tr>\n",
       "    <tr>\n",
       "      <th>2</th>\n",
       "      <td>3</td>\n",
       "      <td>Young, Wild and Wonderful (1980)</td>\n",
       "      <td>adult</td>\n",
       "      <td>As the bus empties the students for their fiel...</td>\n",
       "    </tr>\n",
       "    <tr>\n",
       "      <th>3</th>\n",
       "      <td>4</td>\n",
       "      <td>The Secret Sin (1915)</td>\n",
       "      <td>drama</td>\n",
       "      <td>To help their unemployed father make ends meet...</td>\n",
       "    </tr>\n",
       "    <tr>\n",
       "      <th>4</th>\n",
       "      <td>5</td>\n",
       "      <td>The Unrecovered (2007)</td>\n",
       "      <td>drama</td>\n",
       "      <td>The film's title refers not only to the un-rec...</td>\n",
       "    </tr>\n",
       "    <tr>\n",
       "      <th>...</th>\n",
       "      <td>...</td>\n",
       "      <td>...</td>\n",
       "      <td>...</td>\n",
       "      <td>...</td>\n",
       "    </tr>\n",
       "    <tr>\n",
       "      <th>54209</th>\n",
       "      <td>54210</td>\n",
       "      <td>\"Bonino\" (1953)</td>\n",
       "      <td>comedy</td>\n",
       "      <td>This short-lived NBC live sitcom centered on B...</td>\n",
       "    </tr>\n",
       "    <tr>\n",
       "      <th>54210</th>\n",
       "      <td>54211</td>\n",
       "      <td>Dead Girls Don't Cry (????)</td>\n",
       "      <td>horror</td>\n",
       "      <td>The NEXT Generation of EXPLOITATION. The siste...</td>\n",
       "    </tr>\n",
       "    <tr>\n",
       "      <th>54211</th>\n",
       "      <td>54212</td>\n",
       "      <td>Ronald Goedemondt: Ze bestaan echt (2008)</td>\n",
       "      <td>documentary</td>\n",
       "      <td>Ze bestaan echt, is a stand-up comedy about gr...</td>\n",
       "    </tr>\n",
       "    <tr>\n",
       "      <th>54212</th>\n",
       "      <td>54213</td>\n",
       "      <td>Make Your Own Bed (1944)</td>\n",
       "      <td>comedy</td>\n",
       "      <td>Walter and Vivian live in the country and have...</td>\n",
       "    </tr>\n",
       "    <tr>\n",
       "      <th>54213</th>\n",
       "      <td>54214</td>\n",
       "      <td>Nature's Fury: Storm of the Century (2006)</td>\n",
       "      <td>history</td>\n",
       "      <td>On Labor Day Weekend, 1935, the most intense h...</td>\n",
       "    </tr>\n",
       "  </tbody>\n",
       "</table>\n",
       "<p>54214 rows × 4 columns</p>\n",
       "</div>"
      ],
      "text/plain": [
       "          ID                                       Title        Genre  \\\n",
       "0          1                Oscar et la dame rose (2009)        drama   \n",
       "1          2                                Cupid (1997)     thriller   \n",
       "2          3            Young, Wild and Wonderful (1980)        adult   \n",
       "3          4                       The Secret Sin (1915)        drama   \n",
       "4          5                      The Unrecovered (2007)        drama   \n",
       "...      ...                                         ...          ...   \n",
       "54209  54210                             \"Bonino\" (1953)       comedy   \n",
       "54210  54211                 Dead Girls Don't Cry (????)       horror   \n",
       "54211  54212   Ronald Goedemondt: Ze bestaan echt (2008)  documentary   \n",
       "54212  54213                    Make Your Own Bed (1944)       comedy   \n",
       "54213  54214  Nature's Fury: Storm of the Century (2006)      history   \n",
       "\n",
       "                                             Description  \n",
       "0      Listening in to a conversation between his doc...  \n",
       "1      A brother and sister with a past incestuous re...  \n",
       "2      As the bus empties the students for their fiel...  \n",
       "3      To help their unemployed father make ends meet...  \n",
       "4      The film's title refers not only to the un-rec...  \n",
       "...                                                  ...  \n",
       "54209  This short-lived NBC live sitcom centered on B...  \n",
       "54210  The NEXT Generation of EXPLOITATION. The siste...  \n",
       "54211  Ze bestaan echt, is a stand-up comedy about gr...  \n",
       "54212  Walter and Vivian live in the country and have...  \n",
       "54213  On Labor Day Weekend, 1935, the most intense h...  \n",
       "\n",
       "[54214 rows x 4 columns]"
      ]
     },
     "execution_count": 5,
     "metadata": {},
     "output_type": "execute_result"
    }
   ],
   "source": [
    "print(\"Train Data:\")\n",
    "train_df  # Should have 4 columns: ID, Title, Genre, Description"
   ]
  },
  {
   "cell_type": "code",
   "execution_count": 6,
   "metadata": {},
   "outputs": [
    {
     "name": "stdout",
     "output_type": "stream",
     "text": [
      "\n",
      "Test Data:\n"
     ]
    },
    {
     "data": {
      "text/html": [
       "<div>\n",
       "<style scoped>\n",
       "    .dataframe tbody tr th:only-of-type {\n",
       "        vertical-align: middle;\n",
       "    }\n",
       "\n",
       "    .dataframe tbody tr th {\n",
       "        vertical-align: top;\n",
       "    }\n",
       "\n",
       "    .dataframe thead th {\n",
       "        text-align: right;\n",
       "    }\n",
       "</style>\n",
       "<table border=\"1\" class=\"dataframe\">\n",
       "  <thead>\n",
       "    <tr style=\"text-align: right;\">\n",
       "      <th></th>\n",
       "      <th>ID</th>\n",
       "      <th>Title</th>\n",
       "      <th>Description</th>\n",
       "    </tr>\n",
       "  </thead>\n",
       "  <tbody>\n",
       "    <tr>\n",
       "      <th>0</th>\n",
       "      <td>1</td>\n",
       "      <td>Edgar's Lunch (1998)</td>\n",
       "      <td>L.R. Brane loves his life - his car, his apart...</td>\n",
       "    </tr>\n",
       "    <tr>\n",
       "      <th>1</th>\n",
       "      <td>2</td>\n",
       "      <td>La guerra de papá (1977)</td>\n",
       "      <td>Spain, March 1964: Quico is a very naughty chi...</td>\n",
       "    </tr>\n",
       "    <tr>\n",
       "      <th>2</th>\n",
       "      <td>3</td>\n",
       "      <td>Off the Beaten Track (2010)</td>\n",
       "      <td>One year in the life of Albin and his family o...</td>\n",
       "    </tr>\n",
       "    <tr>\n",
       "      <th>3</th>\n",
       "      <td>4</td>\n",
       "      <td>Meu Amigo Hindu (2015)</td>\n",
       "      <td>His father has died, he hasn't spoken with his...</td>\n",
       "    </tr>\n",
       "    <tr>\n",
       "      <th>4</th>\n",
       "      <td>5</td>\n",
       "      <td>Er nu zhai (1955)</td>\n",
       "      <td>Before he was known internationally as a marti...</td>\n",
       "    </tr>\n",
       "    <tr>\n",
       "      <th>...</th>\n",
       "      <td>...</td>\n",
       "      <td>...</td>\n",
       "      <td>...</td>\n",
       "    </tr>\n",
       "    <tr>\n",
       "      <th>54195</th>\n",
       "      <td>54196</td>\n",
       "      <td>\"Tales of Light &amp; Dark\" (2013)</td>\n",
       "      <td>Covering multiple genres, Tales of Light &amp; Dar...</td>\n",
       "    </tr>\n",
       "    <tr>\n",
       "      <th>54196</th>\n",
       "      <td>54197</td>\n",
       "      <td>Der letzte Mohikaner (1965)</td>\n",
       "      <td>As Alice and Cora Munro attempt to find their ...</td>\n",
       "    </tr>\n",
       "    <tr>\n",
       "      <th>54197</th>\n",
       "      <td>54198</td>\n",
       "      <td>Oliver Twink (2007)</td>\n",
       "      <td>A movie 169 years in the making. Oliver Twist,...</td>\n",
       "    </tr>\n",
       "    <tr>\n",
       "      <th>54198</th>\n",
       "      <td>54199</td>\n",
       "      <td>Slipstream (1973)</td>\n",
       "      <td>Popular, but mysterious rock D.J Mike Mallard ...</td>\n",
       "    </tr>\n",
       "    <tr>\n",
       "      <th>54199</th>\n",
       "      <td>54200</td>\n",
       "      <td>Curitiba Zero Grau (2010)</td>\n",
       "      <td>Curitiba is a city in movement, with rhythms a...</td>\n",
       "    </tr>\n",
       "  </tbody>\n",
       "</table>\n",
       "<p>54200 rows × 3 columns</p>\n",
       "</div>"
      ],
      "text/plain": [
       "          ID                           Title  \\\n",
       "0          1            Edgar's Lunch (1998)   \n",
       "1          2        La guerra de papá (1977)   \n",
       "2          3     Off the Beaten Track (2010)   \n",
       "3          4          Meu Amigo Hindu (2015)   \n",
       "4          5               Er nu zhai (1955)   \n",
       "...      ...                             ...   \n",
       "54195  54196  \"Tales of Light & Dark\" (2013)   \n",
       "54196  54197     Der letzte Mohikaner (1965)   \n",
       "54197  54198             Oliver Twink (2007)   \n",
       "54198  54199               Slipstream (1973)   \n",
       "54199  54200       Curitiba Zero Grau (2010)   \n",
       "\n",
       "                                             Description  \n",
       "0      L.R. Brane loves his life - his car, his apart...  \n",
       "1      Spain, March 1964: Quico is a very naughty chi...  \n",
       "2      One year in the life of Albin and his family o...  \n",
       "3      His father has died, he hasn't spoken with his...  \n",
       "4      Before he was known internationally as a marti...  \n",
       "...                                                  ...  \n",
       "54195  Covering multiple genres, Tales of Light & Dar...  \n",
       "54196  As Alice and Cora Munro attempt to find their ...  \n",
       "54197  A movie 169 years in the making. Oliver Twist,...  \n",
       "54198  Popular, but mysterious rock D.J Mike Mallard ...  \n",
       "54199  Curitiba is a city in movement, with rhythms a...  \n",
       "\n",
       "[54200 rows x 3 columns]"
      ]
     },
     "execution_count": 6,
     "metadata": {},
     "output_type": "execute_result"
    }
   ],
   "source": [
    "print(\"\\nTest Data:\")\n",
    "test_df   # Should have 3 columns: ID, Title, Description"
   ]
  },
  {
   "cell_type": "code",
   "execution_count": 7,
   "metadata": {},
   "outputs": [
    {
     "name": "stdout",
     "output_type": "stream",
     "text": [
      "\n",
      "Test Solution:\n"
     ]
    },
    {
     "data": {
      "text/html": [
       "<div>\n",
       "<style scoped>\n",
       "    .dataframe tbody tr th:only-of-type {\n",
       "        vertical-align: middle;\n",
       "    }\n",
       "\n",
       "    .dataframe tbody tr th {\n",
       "        vertical-align: top;\n",
       "    }\n",
       "\n",
       "    .dataframe thead th {\n",
       "        text-align: right;\n",
       "    }\n",
       "</style>\n",
       "<table border=\"1\" class=\"dataframe\">\n",
       "  <thead>\n",
       "    <tr style=\"text-align: right;\">\n",
       "      <th></th>\n",
       "      <th>ID</th>\n",
       "      <th>Title</th>\n",
       "      <th>Genre</th>\n",
       "      <th>Description</th>\n",
       "    </tr>\n",
       "  </thead>\n",
       "  <tbody>\n",
       "    <tr>\n",
       "      <th>0</th>\n",
       "      <td>1</td>\n",
       "      <td>Edgar's Lunch (1998)</td>\n",
       "      <td>thriller</td>\n",
       "      <td>L.R. Brane loves his life - his car, his apart...</td>\n",
       "    </tr>\n",
       "    <tr>\n",
       "      <th>1</th>\n",
       "      <td>2</td>\n",
       "      <td>La guerra de papá (1977)</td>\n",
       "      <td>comedy</td>\n",
       "      <td>Spain, March 1964: Quico is a very naughty chi...</td>\n",
       "    </tr>\n",
       "    <tr>\n",
       "      <th>2</th>\n",
       "      <td>3</td>\n",
       "      <td>Off the Beaten Track (2010)</td>\n",
       "      <td>documentary</td>\n",
       "      <td>One year in the life of Albin and his family o...</td>\n",
       "    </tr>\n",
       "    <tr>\n",
       "      <th>3</th>\n",
       "      <td>4</td>\n",
       "      <td>Meu Amigo Hindu (2015)</td>\n",
       "      <td>drama</td>\n",
       "      <td>His father has died, he hasn't spoken with his...</td>\n",
       "    </tr>\n",
       "    <tr>\n",
       "      <th>4</th>\n",
       "      <td>5</td>\n",
       "      <td>Er nu zhai (1955)</td>\n",
       "      <td>drama</td>\n",
       "      <td>Before he was known internationally as a marti...</td>\n",
       "    </tr>\n",
       "    <tr>\n",
       "      <th>...</th>\n",
       "      <td>...</td>\n",
       "      <td>...</td>\n",
       "      <td>...</td>\n",
       "      <td>...</td>\n",
       "    </tr>\n",
       "    <tr>\n",
       "      <th>54195</th>\n",
       "      <td>54196</td>\n",
       "      <td>\"Tales of Light &amp; Dark\" (2013)</td>\n",
       "      <td>horror</td>\n",
       "      <td>Covering multiple genres, Tales of Light &amp; Dar...</td>\n",
       "    </tr>\n",
       "    <tr>\n",
       "      <th>54196</th>\n",
       "      <td>54197</td>\n",
       "      <td>Der letzte Mohikaner (1965)</td>\n",
       "      <td>western</td>\n",
       "      <td>As Alice and Cora Munro attempt to find their ...</td>\n",
       "    </tr>\n",
       "    <tr>\n",
       "      <th>54197</th>\n",
       "      <td>54198</td>\n",
       "      <td>Oliver Twink (2007)</td>\n",
       "      <td>adult</td>\n",
       "      <td>A movie 169 years in the making. Oliver Twist,...</td>\n",
       "    </tr>\n",
       "    <tr>\n",
       "      <th>54198</th>\n",
       "      <td>54199</td>\n",
       "      <td>Slipstream (1973)</td>\n",
       "      <td>drama</td>\n",
       "      <td>Popular, but mysterious rock D.J Mike Mallard ...</td>\n",
       "    </tr>\n",
       "    <tr>\n",
       "      <th>54199</th>\n",
       "      <td>54200</td>\n",
       "      <td>Curitiba Zero Grau (2010)</td>\n",
       "      <td>drama</td>\n",
       "      <td>Curitiba is a city in movement, with rhythms a...</td>\n",
       "    </tr>\n",
       "  </tbody>\n",
       "</table>\n",
       "<p>54200 rows × 4 columns</p>\n",
       "</div>"
      ],
      "text/plain": [
       "          ID                           Title        Genre  \\\n",
       "0          1            Edgar's Lunch (1998)     thriller   \n",
       "1          2        La guerra de papá (1977)       comedy   \n",
       "2          3     Off the Beaten Track (2010)  documentary   \n",
       "3          4          Meu Amigo Hindu (2015)        drama   \n",
       "4          5               Er nu zhai (1955)        drama   \n",
       "...      ...                             ...          ...   \n",
       "54195  54196  \"Tales of Light & Dark\" (2013)       horror   \n",
       "54196  54197     Der letzte Mohikaner (1965)      western   \n",
       "54197  54198             Oliver Twink (2007)        adult   \n",
       "54198  54199               Slipstream (1973)        drama   \n",
       "54199  54200       Curitiba Zero Grau (2010)        drama   \n",
       "\n",
       "                                             Description  \n",
       "0      L.R. Brane loves his life - his car, his apart...  \n",
       "1      Spain, March 1964: Quico is a very naughty chi...  \n",
       "2      One year in the life of Albin and his family o...  \n",
       "3      His father has died, he hasn't spoken with his...  \n",
       "4      Before he was known internationally as a marti...  \n",
       "...                                                  ...  \n",
       "54195  Covering multiple genres, Tales of Light & Dar...  \n",
       "54196  As Alice and Cora Munro attempt to find their ...  \n",
       "54197  A movie 169 years in the making. Oliver Twist,...  \n",
       "54198  Popular, but mysterious rock D.J Mike Mallard ...  \n",
       "54199  Curitiba is a city in movement, with rhythms a...  \n",
       "\n",
       "[54200 rows x 4 columns]"
      ]
     },
     "execution_count": 7,
     "metadata": {},
     "output_type": "execute_result"
    }
   ],
   "source": [
    "print(\"\\nTest Solution:\")\n",
    "test_solution_df  # Should have 3 columns: ID, Title, Genre"
   ]
  },
  {
   "cell_type": "markdown",
   "metadata": {},
   "source": [
    "# 3. Feature extraction : TF-IDF"
   ]
  },
  {
   "cell_type": "code",
   "execution_count": 8,
   "metadata": {},
   "outputs": [
    {
     "name": "stdout",
     "output_type": "stream",
     "text": [
      "Training data shape: (54214, 10000)\n",
      "Test data shape: (54200, 10000)\n"
     ]
    }
   ],
   "source": [
    "from sklearn.feature_extraction.text import TfidfVectorizer         # Importing TfidfVectorizer from sklearn\n",
    "vectorizer = TfidfVectorizer(max_features=10000)                    # Initialize the TF-IDF Vectorizer with 10k features\n",
    "\n",
    "X_train_tfidf = vectorizer.fit_transform(train_df[\"Description\"])   # Fit and transform the training dataframe column named \"Description\"\n",
    "X_test_tfidf = vectorizer.transform(test_df[\"Description\"])         # Fit and transform the test dataframe column named \"Description\"\n",
    "\n",
    "print(f\"Training data shape: {X_train_tfidf.shape}\")                # Display the shape of the training dataset\n",
    "print(f\"Test data shape: {X_test_tfidf.shape}\")                     # Display the shape of the testing dataset"
   ]
  },
  {
   "cell_type": "markdown",
   "metadata": {},
   "source": [
    "# 4. Encoding the Target labels"
   ]
  },
  {
   "cell_type": "code",
   "execution_count": 9,
   "metadata": {},
   "outputs": [
    {
     "name": "stdout",
     "output_type": "stream",
     "text": [
      "Unique genres in the training data: ['action' 'adult' 'adventure' 'animation' 'biography' 'comedy' 'crime'\n",
      " 'documentary' 'drama' 'family' 'fantasy' 'game-show' 'history' 'horror'\n",
      " 'music' 'musical' 'mystery' 'news' 'reality-tv' 'romance' 'sci-fi'\n",
      " 'short' 'sport' 'talk-show' 'thriller' 'war' 'western']\n"
     ]
    }
   ],
   "source": [
    "from sklearn.preprocessing import LabelEncoder                          # Importing label encoder from sklearn package\n",
    "label_encoder = LabelEncoder()                                          # Encoding values into numeric labels\n",
    "y_train = label_encoder.fit_transform(train_df['Genre'])                # Encoding or transforming dataframe column into numeric label\n",
    "print(f\"Unique genres in the training data: {label_encoder.classes_}\")  # Check the unique genres after encoding\n"
   ]
  },
  {
   "cell_type": "markdown",
   "metadata": {},
   "source": [
    "# 5. Model Building - Logistic Regression"
   ]
  },
  {
   "cell_type": "code",
   "execution_count": 10,
   "metadata": {},
   "outputs": [
    {
     "data": {
      "text/html": [
       "<div>\n",
       "<style scoped>\n",
       "    .dataframe tbody tr th:only-of-type {\n",
       "        vertical-align: middle;\n",
       "    }\n",
       "\n",
       "    .dataframe tbody tr th {\n",
       "        vertical-align: top;\n",
       "    }\n",
       "\n",
       "    .dataframe thead th {\n",
       "        text-align: right;\n",
       "    }\n",
       "</style>\n",
       "<table border=\"1\" class=\"dataframe\">\n",
       "  <thead>\n",
       "    <tr style=\"text-align: right;\">\n",
       "      <th></th>\n",
       "      <th>Title</th>\n",
       "      <th>Predicted_Genre</th>\n",
       "    </tr>\n",
       "  </thead>\n",
       "  <tbody>\n",
       "    <tr>\n",
       "      <th>0</th>\n",
       "      <td>Edgar's Lunch (1998)</td>\n",
       "      <td>drama</td>\n",
       "    </tr>\n",
       "    <tr>\n",
       "      <th>1</th>\n",
       "      <td>La guerra de papá (1977)</td>\n",
       "      <td>drama</td>\n",
       "    </tr>\n",
       "    <tr>\n",
       "      <th>2</th>\n",
       "      <td>Off the Beaten Track (2010)</td>\n",
       "      <td>documentary</td>\n",
       "    </tr>\n",
       "    <tr>\n",
       "      <th>3</th>\n",
       "      <td>Meu Amigo Hindu (2015)</td>\n",
       "      <td>drama</td>\n",
       "    </tr>\n",
       "    <tr>\n",
       "      <th>4</th>\n",
       "      <td>Er nu zhai (1955)</td>\n",
       "      <td>drama</td>\n",
       "    </tr>\n",
       "    <tr>\n",
       "      <th>...</th>\n",
       "      <td>...</td>\n",
       "      <td>...</td>\n",
       "    </tr>\n",
       "    <tr>\n",
       "      <th>54195</th>\n",
       "      <td>\"Tales of Light &amp; Dark\" (2013)</td>\n",
       "      <td>drama</td>\n",
       "    </tr>\n",
       "    <tr>\n",
       "      <th>54196</th>\n",
       "      <td>Der letzte Mohikaner (1965)</td>\n",
       "      <td>drama</td>\n",
       "    </tr>\n",
       "    <tr>\n",
       "      <th>54197</th>\n",
       "      <td>Oliver Twink (2007)</td>\n",
       "      <td>comedy</td>\n",
       "    </tr>\n",
       "    <tr>\n",
       "      <th>54198</th>\n",
       "      <td>Slipstream (1973)</td>\n",
       "      <td>drama</td>\n",
       "    </tr>\n",
       "    <tr>\n",
       "      <th>54199</th>\n",
       "      <td>Curitiba Zero Grau (2010)</td>\n",
       "      <td>documentary</td>\n",
       "    </tr>\n",
       "  </tbody>\n",
       "</table>\n",
       "<p>54200 rows × 2 columns</p>\n",
       "</div>"
      ],
      "text/plain": [
       "                                Title Predicted_Genre\n",
       "0                Edgar's Lunch (1998)           drama\n",
       "1            La guerra de papá (1977)           drama\n",
       "2         Off the Beaten Track (2010)     documentary\n",
       "3              Meu Amigo Hindu (2015)           drama\n",
       "4                   Er nu zhai (1955)           drama\n",
       "...                               ...             ...\n",
       "54195  \"Tales of Light & Dark\" (2013)           drama\n",
       "54196     Der letzte Mohikaner (1965)           drama\n",
       "54197             Oliver Twink (2007)          comedy\n",
       "54198               Slipstream (1973)           drama\n",
       "54199       Curitiba Zero Grau (2010)     documentary\n",
       "\n",
       "[54200 rows x 2 columns]"
      ]
     },
     "execution_count": 10,
     "metadata": {},
     "output_type": "execute_result"
    }
   ],
   "source": [
    "from sklearn.linear_model import LogisticRegression         # Importing Logistic regression from sklearn\n",
    "lr_model = LogisticRegression(max_iter=200)                 # Build a Logistic Regression with maximum number of iterations of 200\n",
    "lr_model.fit(X_train_tfidf, y_train)                        # Traing the model with the training dataset\n",
    "\n",
    "y_pred = lr_model.predict(X_test_tfidf)                     # Predict on the test dataset values\n",
    "predicted_genres = label_encoder.inverse_transform(y_pred)  # Apply inverse transform to prdicted values\n",
    "\n",
    "test_df['Predicted_Genre'] = predicted_genres               # Add predictions to the test dataframe\n",
    "test_df[['Title', 'Predicted_Genre']]                       # Display the test dataframe with predictions\n"
   ]
  },
  {
   "cell_type": "code",
   "execution_count": 11,
   "metadata": {},
   "outputs": [
    {
     "data": {
      "text/html": [
       "<div>\n",
       "<style scoped>\n",
       "    .dataframe tbody tr th:only-of-type {\n",
       "        vertical-align: middle;\n",
       "    }\n",
       "\n",
       "    .dataframe tbody tr th {\n",
       "        vertical-align: top;\n",
       "    }\n",
       "\n",
       "    .dataframe thead th {\n",
       "        text-align: right;\n",
       "    }\n",
       "</style>\n",
       "<table border=\"1\" class=\"dataframe\">\n",
       "  <thead>\n",
       "    <tr style=\"text-align: right;\">\n",
       "      <th></th>\n",
       "      <th>ID</th>\n",
       "      <th>Genre</th>\n",
       "      <th>Predicted_Genre</th>\n",
       "    </tr>\n",
       "  </thead>\n",
       "  <tbody>\n",
       "    <tr>\n",
       "      <th>0</th>\n",
       "      <td>1</td>\n",
       "      <td>thriller</td>\n",
       "      <td>drama</td>\n",
       "    </tr>\n",
       "    <tr>\n",
       "      <th>1</th>\n",
       "      <td>2</td>\n",
       "      <td>comedy</td>\n",
       "      <td>drama</td>\n",
       "    </tr>\n",
       "    <tr>\n",
       "      <th>2</th>\n",
       "      <td>3</td>\n",
       "      <td>documentary</td>\n",
       "      <td>documentary</td>\n",
       "    </tr>\n",
       "    <tr>\n",
       "      <th>3</th>\n",
       "      <td>4</td>\n",
       "      <td>drama</td>\n",
       "      <td>drama</td>\n",
       "    </tr>\n",
       "    <tr>\n",
       "      <th>4</th>\n",
       "      <td>5</td>\n",
       "      <td>drama</td>\n",
       "      <td>drama</td>\n",
       "    </tr>\n",
       "    <tr>\n",
       "      <th>...</th>\n",
       "      <td>...</td>\n",
       "      <td>...</td>\n",
       "      <td>...</td>\n",
       "    </tr>\n",
       "    <tr>\n",
       "      <th>54195</th>\n",
       "      <td>54196</td>\n",
       "      <td>horror</td>\n",
       "      <td>drama</td>\n",
       "    </tr>\n",
       "    <tr>\n",
       "      <th>54196</th>\n",
       "      <td>54197</td>\n",
       "      <td>western</td>\n",
       "      <td>drama</td>\n",
       "    </tr>\n",
       "    <tr>\n",
       "      <th>54197</th>\n",
       "      <td>54198</td>\n",
       "      <td>adult</td>\n",
       "      <td>comedy</td>\n",
       "    </tr>\n",
       "    <tr>\n",
       "      <th>54198</th>\n",
       "      <td>54199</td>\n",
       "      <td>drama</td>\n",
       "      <td>drama</td>\n",
       "    </tr>\n",
       "    <tr>\n",
       "      <th>54199</th>\n",
       "      <td>54200</td>\n",
       "      <td>drama</td>\n",
       "      <td>documentary</td>\n",
       "    </tr>\n",
       "  </tbody>\n",
       "</table>\n",
       "<p>54200 rows × 3 columns</p>\n",
       "</div>"
      ],
      "text/plain": [
       "          ID        Genre Predicted_Genre\n",
       "0          1     thriller           drama\n",
       "1          2       comedy           drama\n",
       "2          3  documentary     documentary\n",
       "3          4        drama           drama\n",
       "4          5        drama           drama\n",
       "...      ...          ...             ...\n",
       "54195  54196       horror           drama\n",
       "54196  54197      western           drama\n",
       "54197  54198        adult          comedy\n",
       "54198  54199        drama           drama\n",
       "54199  54200        drama     documentary\n",
       "\n",
       "[54200 rows x 3 columns]"
      ]
     },
     "execution_count": 11,
     "metadata": {},
     "output_type": "execute_result"
    }
   ],
   "source": [
    "test_df['Predicted_Genre'] = predicted_genres       # Adding predicted genres to the test DataFrame\n",
    "\n",
    "merged_df = pd.merge(test_solution_df[['ID', 'Genre']], test_df[['ID', 'Predicted_Genre']], on='ID')    # Now, merge 'test_solution_df' with 'test_df' on 'ID' to compare the actual and predicted genres\n",
    "merged_df                                           # Check the columns of merged_df to confirm 'Predicted_Genre' is present"
   ]
  },
  {
   "cell_type": "markdown",
   "metadata": {},
   "source": [
    "# 6. Model Evaluation - Logistic Regression"
   ]
  },
  {
   "cell_type": "code",
   "execution_count": 12,
   "metadata": {},
   "outputs": [
    {
     "name": "stdout",
     "output_type": "stream",
     "text": [
      "Accuracy: 0.5948\n",
      "\n",
      "Classification Report:\n",
      "              precision    recall  f1-score   support\n",
      "\n",
      "      action       0.51      0.30      0.37      1314\n",
      "       adult       0.65      0.24      0.36       590\n",
      "   adventure       0.67      0.16      0.26       775\n",
      "   animation       0.61      0.04      0.08       498\n",
      "   biography       0.00      0.00      0.00       264\n",
      "      comedy       0.54      0.60      0.57      7446\n",
      "       crime       0.41      0.03      0.06       505\n",
      " documentary       0.68      0.87      0.76     13096\n",
      "       drama       0.55      0.79      0.65     13612\n",
      "      family       0.49      0.08      0.14       783\n",
      "     fantasy       0.61      0.03      0.06       322\n",
      "   game-show       0.90      0.49      0.64       193\n",
      "     history       0.00      0.00      0.00       243\n",
      "      horror       0.66      0.57      0.61      2204\n",
      "       music       0.68      0.46      0.55       731\n",
      "     musical       0.44      0.01      0.03       276\n",
      "     mystery       0.25      0.00      0.01       318\n",
      "        news       0.69      0.05      0.09       181\n",
      "  reality-tv       0.50      0.21      0.30       883\n",
      "     romance       0.43      0.02      0.05       672\n",
      "      sci-fi       0.60      0.26      0.36       646\n",
      "       short       0.48      0.33      0.40      5072\n",
      "       sport       0.73      0.29      0.41       431\n",
      "   talk-show       0.61      0.19      0.29       391\n",
      "    thriller       0.41      0.13      0.19      1590\n",
      "         war       1.00      0.01      0.02       132\n",
      "     western       0.91      0.73      0.81      1032\n",
      "\n",
      "    accuracy                           0.59     54200\n",
      "   macro avg       0.56      0.26      0.30     54200\n",
      "weighted avg       0.58      0.59      0.55     54200\n",
      "\n"
     ]
    }
   ],
   "source": [
    "from sklearn.metrics import accuracy_score, classification_report               # Importing modules for metrics calculation\n",
    "\n",
    "accuracy = accuracy_score(merged_df['Genre'], merged_df['Predicted_Genre'])     # Get Accuracy : Compare actual and predicted genres\n",
    "print(f\"Accuracy: {accuracy:.4f}\")                                              # Print the accuracy upto 4 decimal points\n",
    "\n",
    "print(\"\\nClassification Report:\")                                               # To get classification report\n",
    "print(classification_report(merged_df['Genre'], merged_df['Predicted_Genre']))  # Display and print classification report\n"
   ]
  },
  {
   "cell_type": "markdown",
   "metadata": {},
   "source": [
    "# 7. Model Bulding - Navie Bayes"
   ]
  },
  {
   "cell_type": "code",
   "execution_count": 13,
   "metadata": {},
   "outputs": [
    {
     "data": {
      "text/html": [
       "<style>#sk-container-id-1 {color: black;}#sk-container-id-1 pre{padding: 0;}#sk-container-id-1 div.sk-toggleable {background-color: white;}#sk-container-id-1 label.sk-toggleable__label {cursor: pointer;display: block;width: 100%;margin-bottom: 0;padding: 0.3em;box-sizing: border-box;text-align: center;}#sk-container-id-1 label.sk-toggleable__label-arrow:before {content: \"▸\";float: left;margin-right: 0.25em;color: #696969;}#sk-container-id-1 label.sk-toggleable__label-arrow:hover:before {color: black;}#sk-container-id-1 div.sk-estimator:hover label.sk-toggleable__label-arrow:before {color: black;}#sk-container-id-1 div.sk-toggleable__content {max-height: 0;max-width: 0;overflow: hidden;text-align: left;background-color: #f0f8ff;}#sk-container-id-1 div.sk-toggleable__content pre {margin: 0.2em;color: black;border-radius: 0.25em;background-color: #f0f8ff;}#sk-container-id-1 input.sk-toggleable__control:checked~div.sk-toggleable__content {max-height: 200px;max-width: 100%;overflow: auto;}#sk-container-id-1 input.sk-toggleable__control:checked~label.sk-toggleable__label-arrow:before {content: \"▾\";}#sk-container-id-1 div.sk-estimator input.sk-toggleable__control:checked~label.sk-toggleable__label {background-color: #d4ebff;}#sk-container-id-1 div.sk-label input.sk-toggleable__control:checked~label.sk-toggleable__label {background-color: #d4ebff;}#sk-container-id-1 input.sk-hidden--visually {border: 0;clip: rect(1px 1px 1px 1px);clip: rect(1px, 1px, 1px, 1px);height: 1px;margin: -1px;overflow: hidden;padding: 0;position: absolute;width: 1px;}#sk-container-id-1 div.sk-estimator {font-family: monospace;background-color: #f0f8ff;border: 1px dotted black;border-radius: 0.25em;box-sizing: border-box;margin-bottom: 0.5em;}#sk-container-id-1 div.sk-estimator:hover {background-color: #d4ebff;}#sk-container-id-1 div.sk-parallel-item::after {content: \"\";width: 100%;border-bottom: 1px solid gray;flex-grow: 1;}#sk-container-id-1 div.sk-label:hover label.sk-toggleable__label {background-color: #d4ebff;}#sk-container-id-1 div.sk-serial::before {content: \"\";position: absolute;border-left: 1px solid gray;box-sizing: border-box;top: 0;bottom: 0;left: 50%;z-index: 0;}#sk-container-id-1 div.sk-serial {display: flex;flex-direction: column;align-items: center;background-color: white;padding-right: 0.2em;padding-left: 0.2em;position: relative;}#sk-container-id-1 div.sk-item {position: relative;z-index: 1;}#sk-container-id-1 div.sk-parallel {display: flex;align-items: stretch;justify-content: center;background-color: white;position: relative;}#sk-container-id-1 div.sk-item::before, #sk-container-id-1 div.sk-parallel-item::before {content: \"\";position: absolute;border-left: 1px solid gray;box-sizing: border-box;top: 0;bottom: 0;left: 50%;z-index: -1;}#sk-container-id-1 div.sk-parallel-item {display: flex;flex-direction: column;z-index: 1;position: relative;background-color: white;}#sk-container-id-1 div.sk-parallel-item:first-child::after {align-self: flex-end;width: 50%;}#sk-container-id-1 div.sk-parallel-item:last-child::after {align-self: flex-start;width: 50%;}#sk-container-id-1 div.sk-parallel-item:only-child::after {width: 0;}#sk-container-id-1 div.sk-dashed-wrapped {border: 1px dashed gray;margin: 0 0.4em 0.5em 0.4em;box-sizing: border-box;padding-bottom: 0.4em;background-color: white;}#sk-container-id-1 div.sk-label label {font-family: monospace;font-weight: bold;display: inline-block;line-height: 1.2em;}#sk-container-id-1 div.sk-label-container {text-align: center;}#sk-container-id-1 div.sk-container {/* jupyter's `normalize.less` sets `[hidden] { display: none; }` but bootstrap.min.css set `[hidden] { display: none !important; }` so we also need the `!important` here to be able to override the default hidden behavior on the sphinx rendered scikit-learn.org. See: https://github.com/scikit-learn/scikit-learn/issues/21755 */display: inline-block !important;position: relative;}#sk-container-id-1 div.sk-text-repr-fallback {display: none;}</style><div id=\"sk-container-id-1\" class=\"sk-top-container\"><div class=\"sk-text-repr-fallback\"><pre>MultinomialNB()</pre><b>In a Jupyter environment, please rerun this cell to show the HTML representation or trust the notebook. <br />On GitHub, the HTML representation is unable to render, please try loading this page with nbviewer.org.</b></div><div class=\"sk-container\" hidden><div class=\"sk-item\"><div class=\"sk-estimator sk-toggleable\"><input class=\"sk-toggleable__control sk-hidden--visually\" id=\"sk-estimator-id-1\" type=\"checkbox\" checked><label for=\"sk-estimator-id-1\" class=\"sk-toggleable__label sk-toggleable__label-arrow\">MultinomialNB</label><div class=\"sk-toggleable__content\"><pre>MultinomialNB()</pre></div></div></div></div></div>"
      ],
      "text/plain": [
       "MultinomialNB()"
      ]
     },
     "execution_count": 13,
     "metadata": {},
     "output_type": "execute_result"
    }
   ],
   "source": [
    "from sklearn.naive_bayes import MultinomialNB           # importing MultinomialNB from sklearn\n",
    "nb_model = MultinomialNB()                              # Building the Naive Bayes model\n",
    "nb_model.fit(X_train_tfidf, y_train)                    # Training the Naive Bayes model with training dataset"
   ]
  },
  {
   "cell_type": "code",
   "execution_count": 14,
   "metadata": {},
   "outputs": [],
   "source": [
    "y_pred_nb = nb_model.predict(X_test_tfidf)                                                  # Predicting the genres on the test dataset\n",
    "predicted_genres_nb = label_encoder.inverse_transform(y_pred_nb)                            # Applying inverse transform on predicted values\n",
    "test_df['Predicted_Genre_NB'] = predicted_genres_nb                                         # Add predictions to the test dataframe\n",
    "merged_df_nb = pd.merge(test_solution_df, test_df[['ID', 'Predicted_Genre_NB']], on='ID')   # Merging dataframe"
   ]
  },
  {
   "cell_type": "markdown",
   "metadata": {},
   "source": [
    "# 8. Model Evsluation - Navie Bayes"
   ]
  },
  {
   "cell_type": "code",
   "execution_count": 15,
   "metadata": {},
   "outputs": [
    {
     "name": "stdout",
     "output_type": "stream",
     "text": [
      "Naive Bayes Accuracy: 0.5092066420664206\n",
      "Naive Bayes Classification Report:\n",
      "              precision    recall  f1-score   support\n",
      "\n",
      "      action       0.57      0.03      0.06      1314\n",
      "       adult       0.46      0.02      0.04       590\n",
      "   adventure       0.77      0.04      0.08       775\n",
      "   animation       0.00      0.00      0.00       498\n",
      "   biography       0.00      0.00      0.00       264\n",
      "      comedy       0.53      0.40      0.46      7446\n",
      "       crime       0.00      0.00      0.00       505\n",
      " documentary       0.56      0.89      0.69     13096\n",
      "       drama       0.44      0.84      0.58     13612\n",
      "      family       0.00      0.00      0.00       783\n",
      "     fantasy       0.00      0.00      0.00       322\n",
      "   game-show       1.00      0.02      0.04       193\n",
      "     history       0.00      0.00      0.00       243\n",
      "      horror       0.77      0.23      0.35      2204\n",
      "       music       0.89      0.02      0.04       731\n",
      "     musical       0.00      0.00      0.00       276\n",
      "     mystery       0.00      0.00      0.00       318\n",
      "        news       0.00      0.00      0.00       181\n",
      "  reality-tv       0.75      0.00      0.01       883\n",
      "     romance       0.00      0.00      0.00       672\n",
      "      sci-fi       0.00      0.00      0.00       646\n",
      "       short       0.65      0.09      0.15      5072\n",
      "       sport       0.79      0.08      0.14       431\n",
      "   talk-show       0.00      0.00      0.00       391\n",
      "    thriller       0.14      0.00      0.00      1590\n",
      "         war       0.00      0.00      0.00       132\n",
      "     western       0.99      0.41      0.58      1032\n",
      "\n",
      "    accuracy                           0.51     54200\n",
      "   macro avg       0.34      0.11      0.12     54200\n",
      "weighted avg       0.50      0.51      0.42     54200\n",
      "\n"
     ]
    }
   ],
   "source": [
    "from sklearn.metrics import accuracy_score, classification_report                           # Importing modules for evaluation metrics\n",
    "\n",
    "accuracy_nb = accuracy_score(merged_df_nb['Genre'], merged_df_nb['Predicted_Genre_NB'])     # Finding Accuracy for Naive Bayes\n",
    "print(f\"Naive Bayes Accuracy: {accuracy_nb}\")\n",
    "\n",
    "print(\"Naive Bayes Classification Report:\")                                                 #  Finding classification report for Naive Bayes\n",
    "print(classification_report(merged_df_nb['Genre'], merged_df_nb['Predicted_Genre_NB'], target_names=label_encoder.classes_))\n"
   ]
  },
  {
   "cell_type": "markdown",
   "metadata": {},
   "source": [
    "# 9. Model Building : SVM(Support Vector Machine)"
   ]
  },
  {
   "cell_type": "code",
   "execution_count": 16,
   "metadata": {},
   "outputs": [
    {
     "data": {
      "text/html": [
       "<style>#sk-container-id-2 {color: black;}#sk-container-id-2 pre{padding: 0;}#sk-container-id-2 div.sk-toggleable {background-color: white;}#sk-container-id-2 label.sk-toggleable__label {cursor: pointer;display: block;width: 100%;margin-bottom: 0;padding: 0.3em;box-sizing: border-box;text-align: center;}#sk-container-id-2 label.sk-toggleable__label-arrow:before {content: \"▸\";float: left;margin-right: 0.25em;color: #696969;}#sk-container-id-2 label.sk-toggleable__label-arrow:hover:before {color: black;}#sk-container-id-2 div.sk-estimator:hover label.sk-toggleable__label-arrow:before {color: black;}#sk-container-id-2 div.sk-toggleable__content {max-height: 0;max-width: 0;overflow: hidden;text-align: left;background-color: #f0f8ff;}#sk-container-id-2 div.sk-toggleable__content pre {margin: 0.2em;color: black;border-radius: 0.25em;background-color: #f0f8ff;}#sk-container-id-2 input.sk-toggleable__control:checked~div.sk-toggleable__content {max-height: 200px;max-width: 100%;overflow: auto;}#sk-container-id-2 input.sk-toggleable__control:checked~label.sk-toggleable__label-arrow:before {content: \"▾\";}#sk-container-id-2 div.sk-estimator input.sk-toggleable__control:checked~label.sk-toggleable__label {background-color: #d4ebff;}#sk-container-id-2 div.sk-label input.sk-toggleable__control:checked~label.sk-toggleable__label {background-color: #d4ebff;}#sk-container-id-2 input.sk-hidden--visually {border: 0;clip: rect(1px 1px 1px 1px);clip: rect(1px, 1px, 1px, 1px);height: 1px;margin: -1px;overflow: hidden;padding: 0;position: absolute;width: 1px;}#sk-container-id-2 div.sk-estimator {font-family: monospace;background-color: #f0f8ff;border: 1px dotted black;border-radius: 0.25em;box-sizing: border-box;margin-bottom: 0.5em;}#sk-container-id-2 div.sk-estimator:hover {background-color: #d4ebff;}#sk-container-id-2 div.sk-parallel-item::after {content: \"\";width: 100%;border-bottom: 1px solid gray;flex-grow: 1;}#sk-container-id-2 div.sk-label:hover label.sk-toggleable__label {background-color: #d4ebff;}#sk-container-id-2 div.sk-serial::before {content: \"\";position: absolute;border-left: 1px solid gray;box-sizing: border-box;top: 0;bottom: 0;left: 50%;z-index: 0;}#sk-container-id-2 div.sk-serial {display: flex;flex-direction: column;align-items: center;background-color: white;padding-right: 0.2em;padding-left: 0.2em;position: relative;}#sk-container-id-2 div.sk-item {position: relative;z-index: 1;}#sk-container-id-2 div.sk-parallel {display: flex;align-items: stretch;justify-content: center;background-color: white;position: relative;}#sk-container-id-2 div.sk-item::before, #sk-container-id-2 div.sk-parallel-item::before {content: \"\";position: absolute;border-left: 1px solid gray;box-sizing: border-box;top: 0;bottom: 0;left: 50%;z-index: -1;}#sk-container-id-2 div.sk-parallel-item {display: flex;flex-direction: column;z-index: 1;position: relative;background-color: white;}#sk-container-id-2 div.sk-parallel-item:first-child::after {align-self: flex-end;width: 50%;}#sk-container-id-2 div.sk-parallel-item:last-child::after {align-self: flex-start;width: 50%;}#sk-container-id-2 div.sk-parallel-item:only-child::after {width: 0;}#sk-container-id-2 div.sk-dashed-wrapped {border: 1px dashed gray;margin: 0 0.4em 0.5em 0.4em;box-sizing: border-box;padding-bottom: 0.4em;background-color: white;}#sk-container-id-2 div.sk-label label {font-family: monospace;font-weight: bold;display: inline-block;line-height: 1.2em;}#sk-container-id-2 div.sk-label-container {text-align: center;}#sk-container-id-2 div.sk-container {/* jupyter's `normalize.less` sets `[hidden] { display: none; }` but bootstrap.min.css set `[hidden] { display: none !important; }` so we also need the `!important` here to be able to override the default hidden behavior on the sphinx rendered scikit-learn.org. See: https://github.com/scikit-learn/scikit-learn/issues/21755 */display: inline-block !important;position: relative;}#sk-container-id-2 div.sk-text-repr-fallback {display: none;}</style><div id=\"sk-container-id-2\" class=\"sk-top-container\"><div class=\"sk-text-repr-fallback\"><pre>SVC(kernel=&#x27;linear&#x27;)</pre><b>In a Jupyter environment, please rerun this cell to show the HTML representation or trust the notebook. <br />On GitHub, the HTML representation is unable to render, please try loading this page with nbviewer.org.</b></div><div class=\"sk-container\" hidden><div class=\"sk-item\"><div class=\"sk-estimator sk-toggleable\"><input class=\"sk-toggleable__control sk-hidden--visually\" id=\"sk-estimator-id-2\" type=\"checkbox\" checked><label for=\"sk-estimator-id-2\" class=\"sk-toggleable__label sk-toggleable__label-arrow\">SVC</label><div class=\"sk-toggleable__content\"><pre>SVC(kernel=&#x27;linear&#x27;)</pre></div></div></div></div></div>"
      ],
      "text/plain": [
       "SVC(kernel='linear')"
      ]
     },
     "execution_count": 16,
     "metadata": {},
     "output_type": "execute_result"
    }
   ],
   "source": [
    "from sklearn.svm import SVC             # Importing SVC module from sklearn\n",
    "svm_model = SVC(kernel='linear')        # Building a Support Vector Machine (SVM) model with a linear kernel\n",
    "svm_model.fit(X_train_tfidf, y_train)   # Training the SVM model with training data set"
   ]
  },
  {
   "cell_type": "code",
   "execution_count": 17,
   "metadata": {},
   "outputs": [],
   "source": [
    "y_pred_svm = svm_model.predict(X_test_tfidf)                                                # Predicting the values on the test dataset\n",
    "predicted_genres_svm = label_encoder.inverse_transform(y_pred_svm)                          # Applying inverse transform on predicted values\n",
    "test_df['Predicted_Genre_SVM'] = predicted_genres_svm                                       # Adding predictions to the test dataframe\n",
    "merged_df_svm = pd.merge(test_solution_df, test_df[['ID', 'Predicted_Genre_SVM']], on='ID') # Evaluating the model"
   ]
  },
  {
   "cell_type": "markdown",
   "metadata": {},
   "source": [
    "# 10. Model Evaluation - SVM(Support Vector Machine)"
   ]
  },
  {
   "cell_type": "code",
   "execution_count": 18,
   "metadata": {},
   "outputs": [
    {
     "name": "stdout",
     "output_type": "stream",
     "text": [
      "SVM Accuracy: 0.600110701107011\n",
      "SVM Classification Report:\n",
      "              precision    recall  f1-score   support\n",
      "\n",
      "      action       0.44      0.36      0.40      1314\n",
      "       adult       0.62      0.39      0.48       590\n",
      "   adventure       0.55      0.22      0.31       775\n",
      "   animation       0.47      0.13      0.21       498\n",
      "   biography       0.00      0.00      0.00       264\n",
      "      comedy       0.55      0.60      0.57      7446\n",
      "       crime       0.31      0.04      0.06       505\n",
      " documentary       0.69      0.86      0.77     13096\n",
      "       drama       0.56      0.77      0.65     13612\n",
      "      family       0.52      0.10      0.17       783\n",
      "     fantasy       0.37      0.06      0.10       322\n",
      "   game-show       0.84      0.61      0.71       193\n",
      "     history       0.00      0.00      0.00       243\n",
      "      horror       0.67      0.60      0.63      2204\n",
      "       music       0.67      0.51      0.58       731\n",
      "     musical       0.47      0.03      0.06       276\n",
      "     mystery       0.33      0.01      0.02       318\n",
      "        news       0.61      0.09      0.16       181\n",
      "  reality-tv       0.54      0.28      0.37       883\n",
      "     romance       0.50      0.00      0.01       672\n",
      "      sci-fi       0.56      0.34      0.42       646\n",
      "       short       0.50      0.33      0.39      5072\n",
      "       sport       0.69      0.33      0.45       431\n",
      "   talk-show       0.64      0.29      0.40       391\n",
      "    thriller       0.41      0.15      0.22      1590\n",
      "         war       0.89      0.06      0.11       132\n",
      "     western       0.91      0.78      0.84      1032\n",
      "\n",
      "    accuracy                           0.60     54200\n",
      "   macro avg       0.53      0.29      0.34     54200\n",
      "weighted avg       0.58      0.60      0.56     54200\n",
      "\n"
     ]
    }
   ],
   "source": [
    "from sklearn.metrics import accuracy_score, classification_report                                   # Importing modules for evaluation metrics\n",
    "\n",
    "accuracy_svm = accuracy_score(merged_df_svm['Genre'], merged_df_svm['Predicted_Genre_SVM'])         # To get Accuracy for SVM model\n",
    "print(f\"SVM Accuracy: {accuracy_svm}\")                                                              # Display accuracy value\n",
    "\n",
    "print(\"SVM Classification Report:\")                                                                 # To get classification report for SVM model\n",
    "print(classification_report(merged_df_svm['Genre'], merged_df_svm['Predicted_Genre_SVM'], target_names=label_encoder.classes_)) # Display classification report\n"
   ]
  },
  {
   "cell_type": "markdown",
   "metadata": {},
   "source": [
    "# Test case"
   ]
  },
  {
   "cell_type": "code",
   "execution_count": 25,
   "metadata": {},
   "outputs": [
    {
     "name": "stdout",
     "output_type": "stream",
     "text": [
      "Predicted Genres using Logistic Regression :  ['documentary' 'horror' 'adventure' 'drama' 'comedy']\n",
      "Predicted Genres using Naive Bayes         :  ['documentary' 'horror' 'documentary' 'drama' 'drama']\n",
      "Predicted Genres using SVM                 :  ['documentary' 'horror' 'adventure' 'drama' 'comedy']\n",
      "\n",
      "Story : Explosive fight scenes in the city streets\n",
      "Status :\tNaive Bayes Prediction         : documentary\n",
      "\t\tLogistic Regression Prediction : documentary\n",
      "\t\tSVM Prediction                 : documentary\n",
      "====================================================================================================\n",
      "Story : A haunted mansion that traps its visitors\n",
      "Status :\tNaive Bayes Prediction         : horror\n",
      "\t\tLogistic Regression Prediction : horror\n",
      "\t\tSVM Prediction                 : horror\n",
      "====================================================================================================\n",
      "Story : A brave adventurer in search of lost treasure\n",
      "Status :\tNaive Bayes Prediction         : documentary\n",
      "\t\tLogistic Regression Prediction : adventure\n",
      "\t\tSVM Prediction                 : adventure\n",
      "====================================================================================================\n",
      "Story : A forbidden romance in the 1920s\n",
      "Status :\tNaive Bayes Prediction         : drama\n",
      "\t\tLogistic Regression Prediction : drama\n",
      "\t\tSVM Prediction                 : drama\n",
      "====================================================================================================\n",
      "Story : A daring rescue mission with a love interest\n",
      "Status :\tNaive Bayes Prediction         : drama\n",
      "\t\tLogistic Regression Prediction : comedy\n",
      "\t\tSVM Prediction                 : comedy\n",
      "====================================================================================================\n"
     ]
    }
   ],
   "source": [
    "# Assuming the models (lr_model, nb_model, svm_model) have already been trained\n",
    "# and that X_test_tfidf is the TF-IDF representation of the 'test_data'.\n",
    "\n",
    "zoner_Description = [\n",
    "    'Explosive fight scenes in the city streets',  # Action\n",
    "    'A haunted mansion that traps its visitors',  # Horror\n",
    "    'A brave adventurer in search of lost treasure',  # Adventure\n",
    "    'A forbidden romance in the 1920s',  # Romance\n",
    "    'A daring rescue mission with a love interest'  # Action\n",
    "]\n",
    "\n",
    "# Step 1: Vectorize the new test data using the same vectorizer\n",
    "test_data_tfidf = vectorizer.transform(zoner_Description)  # Transform the descriptions into TF-IDF features\n",
    "\n",
    "# Step 2: Predict genres using each model\n",
    "y_pred_lr = lr_model.predict(test_data_tfidf)  # Predict using Logistic Regression\n",
    "predicted_genres_lr = label_encoder.inverse_transform(y_pred_lr)  # Inverse transform to get genre names\n",
    "\n",
    "y_pred_nb = nb_model.predict(test_data_tfidf)  # Predict using Naive Bayes\n",
    "predicted_genres_nb = label_encoder.inverse_transform(y_pred_nb)  # Inverse transform to get genre names\n",
    "\n",
    "y_pred_svm = svm_model.predict(test_data_tfidf)  # Predict using SVM\n",
    "predicted_genres_svm = label_encoder.inverse_transform(y_pred_svm)  # Inverse transform to get genre names\n",
    "\n",
    "# Step 3: Output the predicted genres\n",
    "print(\"Predicted Genres using Logistic Regression : \", predicted_genres_lr)\n",
    "print(\"Predicted Genres using Naive Bayes         : \", predicted_genres_nb)\n",
    "print(\"Predicted Genres using SVM                 : \", predicted_genres_svm)\n",
    "print()\n",
    "for i, message in enumerate(zoner_Description):\n",
    "    print(f\"Story : {message}\")\n",
    "    print(f\"Status :\\tNaive Bayes Prediction         : {predicted_genres_nb[i]}\")\n",
    "    print(f\"\\t\\tLogistic Regression Prediction : {predicted_genres_lr[i]}\")\n",
    "    print(f\"\\t\\tSVM Prediction                 : {predicted_genres_svm[i]}\")\n",
    "    print(\"=\"*100)  # Separates each message\n",
    "\n"
   ]
  },
  {
   "cell_type": "code",
   "execution_count": null,
   "metadata": {},
   "outputs": [],
   "source": []
  }
 ],
 "metadata": {
  "kernelspec": {
   "display_name": "base",
   "language": "python",
   "name": "python3"
  },
  "language_info": {
   "codemirror_mode": {
    "name": "ipython",
    "version": 3
   },
   "file_extension": ".py",
   "mimetype": "text/x-python",
   "name": "python",
   "nbconvert_exporter": "python",
   "pygments_lexer": "ipython3",
   "version": "3.11.4"
  }
 },
 "nbformat": 4,
 "nbformat_minor": 2
}
